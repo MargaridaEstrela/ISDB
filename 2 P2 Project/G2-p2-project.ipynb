{
 "cells": [
  {
   "cell_type": "markdown",
   "id": "0",
   "metadata": {},
   "source": [
    "# GG P2 Project"
   ]
  },
  {
   "cell_type": "markdown",
   "id": "1",
   "metadata": {},
   "source": [
    "* ist199271 Margarida Estrela (33%)\n",
    "  \n",
    "* ist199891 André Teixeira (33%)\n",
    "  \n",
    "* ist1100096 Tiago Costa (33%)"
   ]
  },
  {
   "cell_type": "markdown",
   "id": "2",
   "metadata": {},
   "source": [
    "Prof. Flávio Ramos (Prof. João Marques and Prof. Carlos Felgueiras in the labs)\n",
    "\n",
    "Lab Shift number: PB02"
   ]
  },
  {
   "cell_type": "markdown",
   "id": "3",
   "metadata": {},
   "source": [
    "## PART I – Original Database Schema (SQLite)"
   ]
  },
  {
   "cell_type": "markdown",
   "id": "4",
   "metadata": {},
   "source": [
    "##### E-R Diagram"
   ]
  },
  {
   "cell_type": "markdown",
   "id": "5",
   "metadata": {},
   "source": [
    "![E-R Diagram](soccer.drawio.png \"E-R Diagram\")"
   ]
  },
  {
   "cell_type": "markdown",
   "id": "6",
   "metadata": {},
   "source": [
    "#### 1. The Original Database Schema\n",
    "\n",
    "Study the E-R Diagram above corresponding to the original database schema.\n"
   ]
  },
  {
   "cell_type": "markdown",
   "id": "7",
   "metadata": {},
   "source": [
    "Lets download the SQLite database backup/dump!"
   ]
  },
  {
   "cell_type": "code",
   "execution_count": 1,
   "id": "8",
   "metadata": {
    "execution": {
     "iopub.execute_input": "2024-12-27T16:21:58.238404Z",
     "iopub.status.busy": "2024-12-27T16:21:58.238150Z",
     "iopub.status.idle": "2024-12-27T16:22:48.802836Z",
     "shell.execute_reply": "2024-12-27T16:22:48.802389Z",
     "shell.execute_reply.started": "2024-12-27T16:21:58.238373Z"
    }
   },
   "outputs": [
    {
     "name": "stdout",
     "output_type": "stream",
     "text": [
      "--2024-12-27 16:21:58--  https://github.com/bdist/is-labs-data/raw/refs/heads/main/soccer/database.sqlite?download=\n",
      "140.82.121.3thub.com (github.com)... \n",
      "connected. to github.com (github.com)|140.82.121.3|:443... \n",
      "HTTP request sent, awaiting response... 302 Found\n",
      "Location: https://media.githubusercontent.com/media/bdist/is-labs-data/refs/heads/main/soccer/database.sqlite?download=true [following]\n",
      "--2024-12-27 16:21:58--  https://media.githubusercontent.com/media/bdist/is-labs-data/refs/heads/main/soccer/database.sqlite?download=true\n",
      "185.199.109.133, 185.199.108.133, 185.199.111.133, ...rcontent.com)... \n",
      "Connecting to media.githubusercontent.com (media.githubusercontent.com)|185.199.109.133|:443... connected.\n",
      "200 OKequest sent, awaiting response... \n",
      "Length: 317698048 (303M) [application/octet-stream]\n",
      "Saving to: ‘/home/jovyan/data/database.sqlite’\n",
      "\n",
      "/home/jovyan/data/d 100%[===================>] 302.98M  1.96MB/s    in 42s     \n",
      "\n",
      "2024-12-27 16:22:48 (7.27 MB/s) - ‘/home/jovyan/data/database.sqlite’ saved [317698048/317698048]\n",
      "\n"
     ]
    }
   ],
   "source": [
    "!wget -c https://github.com/bdist/is-labs-data/raw/refs/heads/main/soccer/database.sqlite?download= -O /home/jovyan/data/database.sqlite"
   ]
  },
  {
   "cell_type": "markdown",
   "id": "9",
   "metadata": {},
   "source": [
    "#### 2. SQL Queries\n",
    "\n",
    "Consider the E-R Diagram above and write SQL queries for each of the following information needs."
   ]
  },
  {
   "cell_type": "code",
   "execution_count": 2,
   "id": "10",
   "metadata": {
    "execution": {
     "iopub.execute_input": "2024-12-27T17:37:46.261869Z",
     "iopub.status.busy": "2024-12-27T17:37:46.261064Z",
     "iopub.status.idle": "2024-12-27T17:37:47.660386Z",
     "shell.execute_reply": "2024-12-27T17:37:47.659659Z",
     "shell.execute_reply.started": "2024-12-27T17:37:46.261853Z"
    },
    "tags": []
   },
   "outputs": [],
   "source": [
    "%reload_ext sql\n",
    "%config SqlMagic.displaycon = 0\n",
    "%config SqlMagic.displaylimit = 100\n",
    "%config SqlMagic.feedback = 0\n",
    "%sql sqlite:////home/jovyan/data/database.sqlite --alias sqlite"
   ]
  },
  {
   "cell_type": "markdown",
   "id": "11",
   "metadata": {},
   "source": [
    "1. What is the maximum number of goals recorded in a match? Output a single number."
   ]
  },
  {
   "cell_type": "code",
   "execution_count": 7,
   "id": "12",
   "metadata": {
    "execution": {
     "iopub.execute_input": "2024-12-27T17:41:30.690644Z",
     "iopub.status.busy": "2024-12-27T17:41:30.690404Z",
     "iopub.status.idle": "2024-12-27T17:41:30.712895Z",
     "shell.execute_reply": "2024-12-27T17:41:30.712498Z",
     "shell.execute_reply.started": "2024-12-27T17:41:30.690621Z"
    },
    "vscode": {
     "languageId": "sql"
    }
   },
   "outputs": [
    {
     "data": {
      "text/html": [
       "<table>\n",
       "    <thead>\n",
       "        <tr>\n",
       "            <th>max_goals</th>\n",
       "        </tr>\n",
       "    </thead>\n",
       "    <tbody>\n",
       "        <tr>\n",
       "            <td>12</td>\n",
       "        </tr>\n",
       "    </tbody>\n",
       "</table>"
      ],
      "text/plain": [
       "+-----------+\n",
       "| max_goals |\n",
       "+-----------+\n",
       "|     12    |\n",
       "+-----------+"
      ]
     },
     "execution_count": 7,
     "metadata": {},
     "output_type": "execute_result"
    }
   ],
   "source": [
    "%%sql sqlite\n",
    "SELECT\n",
    "    MAX(home_team_goal + away_team_goal) as max_goals\n",
    "FROM\n",
    "    match"
   ]
  },
  {
   "cell_type": "markdown",
   "id": "13",
   "metadata": {},
   "source": [
    "2. List each league name and its number of teams sorted from high to low."
   ]
  },
  {
   "cell_type": "code",
   "execution_count": 4,
   "id": "14",
   "metadata": {
    "execution": {
     "iopub.execute_input": "2024-12-27T17:37:49.178135Z",
     "iopub.status.busy": "2024-12-27T17:37:49.177971Z",
     "iopub.status.idle": "2024-12-27T17:37:49.248511Z",
     "shell.execute_reply": "2024-12-27T17:37:49.248074Z",
     "shell.execute_reply.started": "2024-12-27T17:37:49.178121Z"
    },
    "vscode": {
     "languageId": "sql"
    }
   },
   "outputs": [
    {
     "data": {
      "text/html": [
       "<table>\n",
       "    <thead>\n",
       "        <tr>\n",
       "            <th>name</th>\n",
       "            <th>num_teams</th>\n",
       "        </tr>\n",
       "    </thead>\n",
       "    <tbody>\n",
       "        <tr>\n",
       "            <td>France Ligue 1</td>\n",
       "            <td>35</td>\n",
       "        </tr>\n",
       "        <tr>\n",
       "            <td>England Premier League</td>\n",
       "            <td>34</td>\n",
       "        </tr>\n",
       "        <tr>\n",
       "            <td>Spain LIGA BBVA</td>\n",
       "            <td>33</td>\n",
       "        </tr>\n",
       "        <tr>\n",
       "            <td>Italy Serie A</td>\n",
       "            <td>32</td>\n",
       "        </tr>\n",
       "        <tr>\n",
       "            <td>Germany 1. Bundesliga</td>\n",
       "            <td>30</td>\n",
       "        </tr>\n",
       "        <tr>\n",
       "            <td>Portugal Liga ZON Sagres</td>\n",
       "            <td>29</td>\n",
       "        </tr>\n",
       "        <tr>\n",
       "            <td>Netherlands Eredivisie</td>\n",
       "            <td>25</td>\n",
       "        </tr>\n",
       "        <tr>\n",
       "            <td>Belgium Jupiler League</td>\n",
       "            <td>24</td>\n",
       "        </tr>\n",
       "        <tr>\n",
       "            <td>Poland Ekstraklasa</td>\n",
       "            <td>22</td>\n",
       "        </tr>\n",
       "        <tr>\n",
       "            <td>Scotland Premier League</td>\n",
       "            <td>17</td>\n",
       "        </tr>\n",
       "        <tr>\n",
       "            <td>Switzerland Super League</td>\n",
       "            <td>15</td>\n",
       "        </tr>\n",
       "    </tbody>\n",
       "</table>"
      ],
      "text/plain": [
       "+--------------------------+-----------+\n",
       "|           name           | num_teams |\n",
       "+--------------------------+-----------+\n",
       "|      France Ligue 1      |     35    |\n",
       "|  England Premier League  |     34    |\n",
       "|     Spain LIGA BBVA      |     33    |\n",
       "|      Italy Serie A       |     32    |\n",
       "|  Germany 1. Bundesliga   |     30    |\n",
       "| Portugal Liga ZON Sagres |     29    |\n",
       "|  Netherlands Eredivisie  |     25    |\n",
       "|  Belgium Jupiler League  |     24    |\n",
       "|    Poland Ekstraklasa    |     22    |\n",
       "| Scotland Premier League  |     17    |\n",
       "| Switzerland Super League |     15    |\n",
       "+--------------------------+-----------+"
      ]
     },
     "execution_count": 4,
     "metadata": {},
     "output_type": "execute_result"
    }
   ],
   "source": [
    "%%sql sqlite\n",
    "SELECT\n",
    "    l.name,\n",
    "    COUNT(DISTINCT t.team_api_id) AS num_teams\n",
    "FROM\n",
    "    match m\n",
    "    JOIN\n",
    "    league l ON m.league_id = l.id\n",
    "    JOIN\n",
    "    team t ON t.team_api_id IN (m.home_team_api_id, m.away_team_api_id)\n",
    "GROUP BY\n",
    "    l.name\n",
    "ORDER BY\n",
    "    num_teams DESC;\n",
    "\n"
   ]
  },
  {
   "cell_type": "markdown",
   "id": "15",
   "metadata": {},
   "source": [
    "3. Who are the GoalKeepers (GK) that have played all the away games for their team? Output the `team_long_name` and `player_name` (assuming `match.away_player_1` is the goalkeeper column)."
   ]
  },
  {
   "cell_type": "code",
   "execution_count": null,
   "id": "16",
   "metadata": {
    "execution": {
     "iopub.execute_input": "2024-12-27T17:30:39.836445Z",
     "iopub.status.busy": "2024-12-27T17:30:39.835171Z"
    },
    "vscode": {
     "languageId": "sql"
    }
   },
   "outputs": [],
   "source": [
    "%%sql sqlite\n",
    "SELECT\n",
    "    t.team_long_name,\n",
    "    p.player_name\n",
    "FROM\n",
    "    team t\n",
    "JOIN\n",
    "    match m ON t.team_api_id = m.away_team_api_id\n",
    "JOIN\n",
    "    player p ON m.away_player_1 = p.player_api_id\n",
    "WHERE\n",
    "    NOT EXISTS (\n",
    "        SELECT 1\n",
    "        FROM match m_all\n",
    "        WHERE m_all.away_team_api_id = t.team_api_id\n",
    "        AND m_all.id NOT IN (\n",
    "            SELECT m_played.id\n",
    "            FROM match m_played\n",
    "            WHERE m_played.away_team_api_id = t.team_api_id\n",
    "            AND m_played.away_player_1 = p.player_api_id\n",
    "        )\n",
    "    )\n",
    "GROUP BY\n",
    "    t.team_long_name, p.player_name;\n"
   ]
  },
  {
   "cell_type": "markdown",
   "id": "17",
   "metadata": {},
   "source": [
    "## PART II - New Database Schema (PostgreSQL)"
   ]
  },
  {
   "cell_type": "markdown",
   "id": "18",
   "metadata": {},
   "source": [
    "#### 0. Migrate the SQLite Database to PostgreSQL"
   ]
  },
  {
   "cell_type": "markdown",
   "id": "19",
   "metadata": {},
   "source": [
    "Instead of writing tedious migration code ourselves, we will be using the `pgloader` CLI tool to get started quickly. The migration task is setup using a `command-file`. Lets see inside that file."
   ]
  },
  {
   "cell_type": "code",
   "execution_count": null,
   "id": "20",
   "metadata": {},
   "outputs": [],
   "source": [
    "!cat ./command-file.txt"
   ]
  },
  {
   "cell_type": "markdown",
   "id": "21",
   "metadata": {},
   "source": [
    "The `pgloader` tool will take care of everything automatically including the foreign key constraints (which SQLite does not enforce by default). Lets run it."
   ]
  },
  {
   "cell_type": "code",
   "execution_count": null,
   "id": "22",
   "metadata": {},
   "outputs": [],
   "source": [
    "!pgloader ./command-file.txt"
   ]
  },
  {
   "cell_type": "markdown",
   "id": "23",
   "metadata": {},
   "source": [
    "Lets take a closer look into the `match` table."
   ]
  },
  {
   "cell_type": "code",
   "execution_count": null,
   "id": "24",
   "metadata": {},
   "outputs": [],
   "source": [
    "%load_ext sql\n",
    "%config SqlMagic.displaycon = 0\n",
    "%config SqlMagic.displaylimit = 100\n",
    "%config SqlMagic.feedback = 0\n",
    "%sql postgresql+psycopg://db:db@postgres/db --alias psql"
   ]
  },
  {
   "cell_type": "code",
   "execution_count": null,
   "id": "25",
   "metadata": {
    "vscode": {
     "languageId": "sql"
    }
   },
   "outputs": [],
   "source": [
    "%sqlcmd columns -t match"
   ]
  },
  {
   "cell_type": "markdown",
   "id": "26",
   "metadata": {},
   "source": [
    "Notice how `pgloader` even assigned the safest most-compatible data types for each column so that no data is lost in the migration."
   ]
  },
  {
   "cell_type": "markdown",
   "id": "27",
   "metadata": {},
   "source": [
    "##### 0.1. Introducing a limitation of the original database schema"
   ]
  },
  {
   "cell_type": "markdown",
   "id": "28",
   "metadata": {},
   "source": [
    "The `match` table still does not look good to us... Can you try to write a SQL query for the following information need?\n",
    "\n",
    "1. List all the teams that 'Cristiano Ronaldo' has played for (regardless of starting position)"
   ]
  },
  {
   "cell_type": "code",
   "execution_count": null,
   "id": "29",
   "metadata": {
    "vscode": {
     "languageId": "sql"
    }
   },
   "outputs": [],
   "source": [
    "%%sql psql\n",
    "-- WILL NOT BE EVALUATED - We will be implementing a solution for this problem in the next section."
   ]
  },
  {
   "cell_type": "markdown",
   "id": "30",
   "metadata": {},
   "source": [
    "#### 1. Functions, Stored Procedures, and Triggers\n",
    "\n",
    "Provide the SQL instructions corresponding to each of the following tasks:"
   ]
  },
  {
   "cell_type": "markdown",
   "id": "31",
   "metadata": {},
   "source": [
    "1. Create a new `match_player` table to store the data for the starting players (11) for each match (currently stored in the columns `match.home_player_DD` and `match.away_player_DD`). We are going to copy the data contained in the table `match` to `match_player` but we want to use a new column for the player position `position`."
   ]
  },
  {
   "cell_type": "code",
   "execution_count": null,
   "id": "32",
   "metadata": {
    "vscode": {
     "languageId": "sql"
    }
   },
   "outputs": [],
   "source": [
    "%%sql psql\n",
    "DROP TABLE IF EXISTS match_player;\n",
    "\n",
    "CREATE TABLE\n",
    "  match_player ();"
   ]
  },
  {
   "cell_type": "markdown",
   "id": "33",
   "metadata": {},
   "source": [
    "2. Populate the new table `match_player` using the data contained in the table `match` using a function or stored procedure."
   ]
  },
  {
   "cell_type": "code",
   "execution_count": null,
   "id": "34",
   "metadata": {
    "vscode": {
     "languageId": "sql"
    }
   },
   "outputs": [],
   "source": [
    "%%sql psql\n",
    "DELETE FROM match_player;\n",
    "\n",
    "CREATE OR REPLACE PROCEDURE populate_match_player()\n",
    "LANGUAGE plpgsql\n",
    "AS $$\n",
    "BEGIN\n",
    "\n",
    "END;\n",
    "$$;\n",
    "\n",
    "CALL populate_match_player();"
   ]
  },
  {
   "cell_type": "markdown",
   "id": "35",
   "metadata": {},
   "source": [
    "#### 2. SQL Queries\n",
    "\n",
    "Consider the new `match_player` table above and write SQL queries for each of the following information needs."
   ]
  },
  {
   "cell_type": "markdown",
   "id": "36",
   "metadata": {},
   "source": [
    "1. List all the teams that 'Cristiano Ronaldo' has played for (regardless of starting position)"
   ]
  },
  {
   "cell_type": "code",
   "execution_count": null,
   "id": "37",
   "metadata": {
    "vscode": {
     "languageId": "sql"
    }
   },
   "outputs": [],
   "source": [
    "%%sql psql\n"
   ]
  },
  {
   "cell_type": "markdown",
   "id": "38",
   "metadata": {},
   "source": [
    "2. Who are the players that have played all the away games for their team? Output the `team_long_name` and `player_name`."
   ]
  },
  {
   "cell_type": "code",
   "execution_count": null,
   "id": "39",
   "metadata": {
    "vscode": {
     "languageId": "sql"
    }
   },
   "outputs": [],
   "source": [
    "%%sql psql\n"
   ]
  },
  {
   "cell_type": "markdown",
   "id": "40",
   "metadata": {},
   "source": [
    "3. What is the match with the highest number of goals? Output `team_long_name` for both home and away teams, and the total number of goals for each team."
   ]
  },
  {
   "cell_type": "code",
   "execution_count": null,
   "id": "41",
   "metadata": {
    "vscode": {
     "languageId": "sql"
    }
   },
   "outputs": [],
   "source": [
    "%%sql psql\n"
   ]
  },
  {
   "cell_type": "markdown",
   "id": "42",
   "metadata": {},
   "source": [
    "#### 3. Query Optimization\n",
    "\n",
    "Consider the new `player_attributes` table that contains the largest amount of rows."
   ]
  },
  {
   "cell_type": "markdown",
   "id": "43",
   "metadata": {},
   "source": [
    "1. Create the most appropriate index(es) for the following query: "
   ]
  },
  {
   "cell_type": "code",
   "execution_count": null,
   "id": "44",
   "metadata": {
    "vscode": {
     "languageId": "sql"
    }
   },
   "outputs": [],
   "source": [
    "%%sql psql\n",
    "CREATE INDEX"
   ]
  },
  {
   "cell_type": "code",
   "execution_count": null,
   "id": "45",
   "metadata": {
    "vscode": {
     "languageId": "sql"
    }
   },
   "outputs": [],
   "source": [
    "%%sql psql\n",
    "SELECT\n",
    "  MAX(overall_rating)\n",
    "FROM\n",
    "  player_attributes\n",
    "WHERE\n",
    "  attacking_work_rate = 'high';"
   ]
  },
  {
   "cell_type": "markdown",
   "id": "46",
   "metadata": {},
   "source": [
    "2. Create the most appropriate index(es) for the following query: "
   ]
  },
  {
   "cell_type": "code",
   "execution_count": null,
   "id": "47",
   "metadata": {
    "vscode": {
     "languageId": "sql"
    }
   },
   "outputs": [],
   "source": [
    "%%sql psql\n",
    "CREATE INDEX"
   ]
  },
  {
   "cell_type": "code",
   "execution_count": null,
   "id": "48",
   "metadata": {
    "vscode": {
     "languageId": "sql"
    }
   },
   "outputs": [],
   "source": [
    "%%sql psql\n",
    "SELECT\n",
    "  player_api_id,\n",
    "  preferred_foot,\n",
    "  MIN(crossing),\n",
    "  MIN(potential)\n",
    "FROM\n",
    "  player_attributes\n",
    "GROUP BY\n",
    "  player_api_id,\n",
    "  preferred_foot\n",
    "HAVING\n",
    "  MIN(crossing) = 80\n",
    "  AND MIN(potential) >= 90"
   ]
  },
  {
   "cell_type": "markdown",
   "id": "49",
   "metadata": {},
   "source": [
    "## PART III - The Web App (Flask + PostgreSQL)"
   ]
  },
  {
   "cell_type": "markdown",
   "id": "50",
   "metadata": {},
   "source": [
    "#### 1. SQL View"
   ]
  },
  {
   "cell_type": "markdown",
   "id": "51",
   "metadata": {},
   "source": [
    "1. Create a SQL View that lists the player names sorted by the most recent `player_attributes.date` first."
   ]
  },
  {
   "cell_type": "code",
   "execution_count": null,
   "id": "52",
   "metadata": {
    "vscode": {
     "languageId": "sql"
    }
   },
   "outputs": [],
   "source": [
    "%%sql psql\n",
    "CREATE OR REPLACE VIEW\n",
    "  players_index_view"
   ]
  },
  {
   "cell_type": "markdown",
   "id": "53",
   "metadata": {},
   "source": [
    "2. Create the most appropriate index(es) for the SQL view you just created. (Note: PostgreSQL does not have support for materialized views)"
   ]
  },
  {
   "cell_type": "code",
   "execution_count": null,
   "id": "54",
   "metadata": {
    "vscode": {
     "languageId": "sql"
    }
   },
   "outputs": [],
   "source": [
    "%%sql psql\n",
    "CREATE INDEX"
   ]
  },
  {
   "cell_type": "markdown",
   "id": "55",
   "metadata": {},
   "source": [
    "3. Please test your view using the following query."
   ]
  },
  {
   "cell_type": "code",
   "execution_count": null,
   "id": "56",
   "metadata": {
    "vscode": {
     "languageId": "sql"
    }
   },
   "outputs": [],
   "source": [
    "%%sql psql\n",
    "SELECT\n",
    "  *\n",
    "FROM\n",
    "  players_index_view\n",
    "LIMIT\n",
    "  20;"
   ]
  },
  {
   "cell_type": "markdown",
   "id": "57",
   "metadata": {},
   "source": [
    "#### 2. Create the players_index page on the Web App\n",
    "\n",
    "Requirements:\n",
    "- Should use the SQL View declared above\n",
    "- Do not list more than 20 players."
   ]
  },
  {
   "cell_type": "markdown",
   "id": "58",
   "metadata": {},
   "source": [
    "1. Copy your players_index function from app.py to the cell below"
   ]
  },
  {
   "cell_type": "markdown",
   "id": "59",
   "metadata": {},
   "source": [
    "```python\n",
    "@app.route(\"/\", methods=(\"GET\",))\n",
    "@app.route(\"/accounts\", methods=(\"GET\",))\n",
    "@limiter.limit(\"1 per second\")\n",
    "def account_index():\n",
    "    \"\"\"Show all the accounts, most recent first.\"\"\"\n",
    "\n",
    "    with pool.connection() as conn:\n",
    "        with conn.cursor() as cur:\n",
    "            accounts = cur.execute(\n",
    "                \"\"\"\n",
    "                SELECT account_number, branch_name, balance\n",
    "                FROM account\n",
    "                ORDER BY account_number DESC;\n",
    "                \"\"\",\n",
    "                {},\n",
    "            ).fetchall()\n",
    "            log.debug(f\"Found {cur.rowcount} rows.\")\n",
    "\n",
    "    return render_template(\"account/index.html\", accounts=accounts)\n",
    "```"
   ]
  },
  {
   "cell_type": "markdown",
   "id": "60",
   "metadata": {},
   "source": [
    "2. Copy your final HTML template for this view onto the cell below"
   ]
  },
  {
   "cell_type": "markdown",
   "id": "61",
   "metadata": {},
   "source": [
    "```html\n",
    "{% extends \"base.html\" %}\n",
    "{% block header %}\n",
    "    <h1>\n",
    "        {% block title %}\n",
    "            Accounts\n",
    "        {% endblock title %}\n",
    "    </h1>\n",
    "{% endblock header %}\n",
    "{% block content %}\n",
    "    {% for account in accounts %}\n",
    "        <article class=\"post\">\n",
    "            <header>\n",
    "                <div>\n",
    "                    <h1>{{ account['account_number'] }}</h1>\n",
    "                    <div class=\"about\">in {{ account['branch_name'] }}</div>\n",
    "                </div>\n",
    "                <a class=\"action\"\n",
    "                   href=\"{{ url_for('account_update_view', account_number=account['account_number']) }}\">Edit</a>\n",
    "            </header>\n",
    "            <p class=\"body\">€ {{ account['balance'] }}</p>\n",
    "        </article>\n",
    "        {% if not loop.last %}<hr />{% endif %}\n",
    "    {% endfor %}\n",
    "{% endblock content %}\n",
    "```"
   ]
  },
  {
   "cell_type": "markdown",
   "id": "62",
   "metadata": {},
   "source": [
    "#### 3. Create the player_update_view and player_update_save routes on the Web App\n",
    "\n",
    "Requirements:\n",
    "\n",
    "- The app.route for player_update_view should take a player_api_id and show a nice editable HTML form.\n",
    "             \n",
    "- The app.route for player_update_save should be called on form submission and insert the new data into player_attributes. \n",
    "\n",
    "- On success, should redirect to the players_index\n",
    "\n",
    "- On failure, should raise an appropriate exception with a error message"
   ]
  },
  {
   "cell_type": "markdown",
   "id": "63",
   "metadata": {},
   "source": [
    "1. Copy your player_update_view function from app.py to the cell below"
   ]
  },
  {
   "cell_type": "markdown",
   "id": "64",
   "metadata": {},
   "source": []
  },
  {
   "cell_type": "markdown",
   "id": "65",
   "metadata": {},
   "source": [
    "2. Copy your final HTML template for this view onto the cell below"
   ]
  },
  {
   "cell_type": "markdown",
   "id": "66",
   "metadata": {},
   "source": []
  },
  {
   "cell_type": "markdown",
   "id": "67",
   "metadata": {},
   "source": [
    "3. Copy your player_update_save function from app.py to the cell below"
   ]
  },
  {
   "cell_type": "markdown",
   "id": "68",
   "metadata": {},
   "source": []
  },
  {
   "cell_type": "code",
   "execution_count": null,
   "id": "69",
   "metadata": {},
   "outputs": [],
   "source": []
  }
 ],
 "metadata": {
  "kernelspec": {
   "display_name": "Python 3 (ipykernel)",
   "language": "python",
   "name": "python3"
  },
  "language_info": {
   "codemirror_mode": {
    "name": "ipython",
    "version": 3
   },
   "file_extension": ".py",
   "mimetype": "text/x-python",
   "name": "python",
   "nbconvert_exporter": "python",
   "pygments_lexer": "ipython3",
   "version": "3.12.8"
  }
 },
 "nbformat": 4,
 "nbformat_minor": 5
}
