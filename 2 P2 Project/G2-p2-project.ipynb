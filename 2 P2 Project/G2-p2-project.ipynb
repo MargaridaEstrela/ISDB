{
 "cells": [
  {
   "cell_type": "markdown",
   "id": "0",
   "metadata": {},
   "source": [
    "# GG P2 Project"
   ]
  },
  {
   "cell_type": "markdown",
   "id": "1",
   "metadata": {},
   "source": [
    "* ist199271 Margarida Estrela (33%)\n",
    "  \n",
    "* ist199891 André Teixeira (33%)\n",
    "  \n",
    "* ist1100096 Tiago Costa (33%)"
   ]
  },
  {
   "cell_type": "markdown",
   "id": "2",
   "metadata": {},
   "source": [
    "Prof. Flávio Ramos (Prof. João Marques and Prof. Carlos Felgueiras in the labs)\n",
    "\n",
    "Lab Shift number: PB02"
   ]
  },
  {
   "cell_type": "markdown",
   "id": "3",
   "metadata": {},
   "source": [
    "## PART I – Original Database Schema (SQLite)"
   ]
  },
  {
   "cell_type": "markdown",
   "id": "4",
   "metadata": {},
   "source": [
    "##### E-R Diagram"
   ]
  },
  {
   "cell_type": "markdown",
   "id": "5",
   "metadata": {},
   "source": [
    "![E-R Diagram](soccer.drawio.png \"E-R Diagram\")"
   ]
  },
  {
   "cell_type": "markdown",
   "id": "6",
   "metadata": {},
   "source": [
    "#### 1. The Original Database Schema\n",
    "\n",
    "Study the E-R Diagram above corresponding to the original database schema.\n"
   ]
  },
  {
   "cell_type": "markdown",
   "id": "7",
   "metadata": {},
   "source": [
    "Lets download the SQLite database backup/dump!"
   ]
  },
  {
   "cell_type": "code",
   "execution_count": 8,
   "id": "8",
   "metadata": {
    "execution": {
     "iopub.execute_input": "2024-12-29T14:24:03.192636Z",
     "iopub.status.busy": "2024-12-29T14:24:03.192100Z",
     "iopub.status.idle": "2024-12-29T14:24:11.830792Z",
     "shell.execute_reply": "2024-12-29T14:24:11.829578Z",
     "shell.execute_reply.started": "2024-12-29T14:24:03.192607Z"
    }
   },
   "outputs": [
    {
     "name": "stdout",
     "output_type": "stream",
     "text": [
      "--2024-12-29 14:24:03--  https://github.com/bdist/is-labs-data/raw/refs/heads/main/soccer/database.sqlite?download=\n",
      "Resolving github.com (github.com)... 140.82.121.4\n",
      "Connecting to github.com (github.com)|140.82.121.4|:443... connected.\n",
      "HTTP request sent, awaiting response... 302 Found\n",
      "Location: https://media.githubusercontent.com/media/bdist/is-labs-data/refs/heads/main/soccer/database.sqlite?download=true [following]\n",
      "--2024-12-29 14:24:03--  https://media.githubusercontent.com/media/bdist/is-labs-data/refs/heads/main/soccer/database.sqlite?download=true\n",
      "Resolving media.githubusercontent.com (media.githubusercontent.com)... 185.199.109.133, 185.199.111.133, 185.199.110.133, ...\n",
      "Connecting to media.githubusercontent.com (media.githubusercontent.com)|185.199.109.133|:443... connected.\n",
      "HTTP request sent, awaiting response... 416 Range Not Satisfiable\n",
      "\n",
      "    The file is already fully retrieved; nothing to do.\n",
      "\n"
     ]
    }
   ],
   "source": [
    "!wget -c https://github.com/bdist/is-labs-data/raw/refs/heads/main/soccer/database.sqlite?download= -O /home/jovyan/data/database.sqlite"
   ]
  },
  {
   "cell_type": "markdown",
   "id": "9",
   "metadata": {},
   "source": [
    "#### 2. SQL Queries\n",
    "\n",
    "Consider the E-R Diagram above and write SQL queries for each of the following information needs."
   ]
  },
  {
   "cell_type": "code",
   "execution_count": 12,
   "id": "10",
   "metadata": {
    "execution": {
     "iopub.execute_input": "2024-12-29T14:24:27.544911Z",
     "iopub.status.busy": "2024-12-29T14:24:27.544204Z",
     "iopub.status.idle": "2024-12-29T14:24:27.571143Z",
     "shell.execute_reply": "2024-12-29T14:24:27.570701Z",
     "shell.execute_reply.started": "2024-12-29T14:24:27.544880Z"
    },
    "tags": []
   },
   "outputs": [],
   "source": [
    "%reload_ext sql\n",
    "%config SqlMagic.displaycon = 0\n",
    "%config SqlMagic.displaylimit = 100\n",
    "%config SqlMagic.feedback = 0\n",
    "%sql sqlite:////home/jovyan/data/database.sqlite --alias sqlite"
   ]
  },
  {
   "cell_type": "markdown",
   "id": "11",
   "metadata": {},
   "source": [
    "1. What is the maximum number of goals recorded in a match? Output a single number."
   ]
  },
  {
   "cell_type": "code",
   "execution_count": 13,
   "id": "12",
   "metadata": {
    "execution": {
     "iopub.execute_input": "2024-12-29T14:24:29.707306Z",
     "iopub.status.busy": "2024-12-29T14:24:29.706336Z",
     "iopub.status.idle": "2024-12-29T14:24:30.154708Z",
     "shell.execute_reply": "2024-12-29T14:24:30.154352Z",
     "shell.execute_reply.started": "2024-12-29T14:24:29.707271Z"
    },
    "vscode": {
     "languageId": "sql"
    }
   },
   "outputs": [
    {
     "data": {
      "text/html": [
       "<table>\n",
       "    <thead>\n",
       "        <tr>\n",
       "            <th>max_goals</th>\n",
       "        </tr>\n",
       "    </thead>\n",
       "    <tbody>\n",
       "        <tr>\n",
       "            <td>12</td>\n",
       "        </tr>\n",
       "    </tbody>\n",
       "</table>"
      ],
      "text/plain": [
       "+-----------+\n",
       "| max_goals |\n",
       "+-----------+\n",
       "|     12    |\n",
       "+-----------+"
      ]
     },
     "execution_count": 13,
     "metadata": {},
     "output_type": "execute_result"
    }
   ],
   "source": [
    "%%sql sqlite\n",
    "SELECT\n",
    "    MAX(home_team_goal + away_team_goal) as max_goals\n",
    "FROM\n",
    "    match"
   ]
  },
  {
   "cell_type": "markdown",
   "id": "13",
   "metadata": {},
   "source": [
    "\n",
    "2. List each league name and its number of teams sorted from high to low."
   ]
  },
  {
   "cell_type": "code",
   "execution_count": 18,
   "id": "14",
   "metadata": {
    "execution": {
     "iopub.execute_input": "2024-12-29T14:24:41.994748Z",
     "iopub.status.busy": "2024-12-29T14:24:41.994382Z",
     "iopub.status.idle": "2024-12-29T14:24:42.037850Z",
     "shell.execute_reply": "2024-12-29T14:24:42.037480Z",
     "shell.execute_reply.started": "2024-12-29T14:24:41.994723Z"
    },
    "vscode": {
     "languageId": "sql"
    }
   },
   "outputs": [
    {
     "data": {
      "text/html": [
       "<table>\n",
       "    <thead>\n",
       "        <tr>\n",
       "            <th>name</th>\n",
       "            <th>num_teams</th>\n",
       "        </tr>\n",
       "    </thead>\n",
       "    <tbody>\n",
       "        <tr>\n",
       "            <td>France Ligue 1</td>\n",
       "            <td>35</td>\n",
       "        </tr>\n",
       "        <tr>\n",
       "            <td>England Premier League</td>\n",
       "            <td>34</td>\n",
       "        </tr>\n",
       "        <tr>\n",
       "            <td>Spain LIGA BBVA</td>\n",
       "            <td>33</td>\n",
       "        </tr>\n",
       "        <tr>\n",
       "            <td>Italy Serie A</td>\n",
       "            <td>32</td>\n",
       "        </tr>\n",
       "        <tr>\n",
       "            <td>Germany 1. Bundesliga</td>\n",
       "            <td>30</td>\n",
       "        </tr>\n",
       "        <tr>\n",
       "            <td>Portugal Liga ZON Sagres</td>\n",
       "            <td>29</td>\n",
       "        </tr>\n",
       "        <tr>\n",
       "            <td>Netherlands Eredivisie</td>\n",
       "            <td>25</td>\n",
       "        </tr>\n",
       "        <tr>\n",
       "            <td>Belgium Jupiler League</td>\n",
       "            <td>24</td>\n",
       "        </tr>\n",
       "        <tr>\n",
       "            <td>Poland Ekstraklasa</td>\n",
       "            <td>22</td>\n",
       "        </tr>\n",
       "        <tr>\n",
       "            <td>Scotland Premier League</td>\n",
       "            <td>17</td>\n",
       "        </tr>\n",
       "        <tr>\n",
       "            <td>Switzerland Super League</td>\n",
       "            <td>15</td>\n",
       "        </tr>\n",
       "    </tbody>\n",
       "</table>"
      ],
      "text/plain": [
       "+--------------------------+-----------+\n",
       "|           name           | num_teams |\n",
       "+--------------------------+-----------+\n",
       "|      France Ligue 1      |     35    |\n",
       "|  England Premier League  |     34    |\n",
       "|     Spain LIGA BBVA      |     33    |\n",
       "|      Italy Serie A       |     32    |\n",
       "|  Germany 1. Bundesliga   |     30    |\n",
       "| Portugal Liga ZON Sagres |     29    |\n",
       "|  Netherlands Eredivisie  |     25    |\n",
       "|  Belgium Jupiler League  |     24    |\n",
       "|    Poland Ekstraklasa    |     22    |\n",
       "| Scotland Premier League  |     17    |\n",
       "| Switzerland Super League |     15    |\n",
       "+--------------------------+-----------+"
      ]
     },
     "execution_count": 18,
     "metadata": {},
     "output_type": "execute_result"
    }
   ],
   "source": [
    "%%sql sqlite\n",
    "SELECT\n",
    "    l.name,\n",
    "    COUNT(DISTINCT t.team_api_id) AS num_teams\n",
    "FROM\n",
    "    match m\n",
    "    JOIN\n",
    "    league l ON m.league_id = l.id\n",
    "    JOIN\n",
    "    team t ON t.team_api_id IN (m.home_team_api_id, m.away_team_api_id)\n",
    "GROUP BY\n",
    "    l.name\n",
    "ORDER BY\n",
    "    num_teams DESC;\n",
    "\n"
   ]
  },
  {
   "cell_type": "markdown",
   "id": "15",
   "metadata": {},
   "source": [
    "3. Who are the GoalKeepers (GK) that have played all the away games for their team? Output the `team_long_name` and `player_name` (assuming `match.away_player_1` is the goalkeeper column)."
   ]
  },
  {
   "cell_type": "code",
   "execution_count": 20,
   "id": "16",
   "metadata": {
    "execution": {
     "iopub.execute_input": "2024-12-29T14:24:50.885552Z",
     "iopub.status.busy": "2024-12-29T14:24:50.884614Z",
     "iopub.status.idle": "2024-12-29T14:24:50.955222Z",
     "shell.execute_reply": "2024-12-29T14:24:50.954594Z",
     "shell.execute_reply.started": "2024-12-29T14:24:50.885516Z"
    },
    "vscode": {
     "languageId": "sql"
    }
   },
   "outputs": [
    {
     "data": {
      "text/html": [
       "<table>\n",
       "    <thead>\n",
       "        <tr>\n",
       "            <th>team_long_name</th>\n",
       "            <th>player_name</th>\n",
       "        </tr>\n",
       "    </thead>\n",
       "    <tbody>\n",
       "        <tr>\n",
       "            <td>Fortuna Düsseldorf</td>\n",
       "            <td>Fabian Giefer</td>\n",
       "        </tr>\n",
       "        <tr>\n",
       "            <td>SV Darmstadt 98</td>\n",
       "            <td>Christian Mathenia</td>\n",
       "        </tr>\n",
       "        <tr>\n",
       "            <td>FC Energie Cottbus</td>\n",
       "            <td>Gerhard Tremmel</td>\n",
       "        </tr>\n",
       "        <tr>\n",
       "            <td>SC Paderborn 07</td>\n",
       "            <td>Lukas Kruse</td>\n",
       "        </tr>\n",
       "        <tr>\n",
       "            <td>RC Recreativo</td>\n",
       "            <td>Asier Riesgo</td>\n",
       "        </tr>\n",
       "        <tr>\n",
       "            <td>Watford</td>\n",
       "            <td>Heurelho Gomes</td>\n",
       "        </tr>\n",
       "        <tr>\n",
       "            <td>Dijon FCO</td>\n",
       "            <td>Baptiste Reynet</td>\n",
       "        </tr>\n",
       "        <tr>\n",
       "            <td>CD Tenerife</td>\n",
       "            <td>Sergio Aragones</td>\n",
       "        </tr>\n",
       "        <tr>\n",
       "            <td>DSC Arminia Bielefeld</td>\n",
       "            <td>Dennis Eilhoff</td>\n",
       "        </tr>\n",
       "    </tbody>\n",
       "</table>"
      ],
      "text/plain": [
       "+-----------------------+--------------------+\n",
       "|     team_long_name    |    player_name     |\n",
       "+-----------------------+--------------------+\n",
       "|   Fortuna Düsseldorf  |   Fabian Giefer    |\n",
       "|    SV Darmstadt 98    | Christian Mathenia |\n",
       "|   FC Energie Cottbus  |  Gerhard Tremmel   |\n",
       "|    SC Paderborn 07    |    Lukas Kruse     |\n",
       "|     RC Recreativo     |    Asier Riesgo    |\n",
       "|        Watford        |   Heurelho Gomes   |\n",
       "|       Dijon FCO       |  Baptiste Reynet   |\n",
       "|      CD Tenerife      |  Sergio Aragones   |\n",
       "| DSC Arminia Bielefeld |   Dennis Eilhoff   |\n",
       "+-----------------------+--------------------+"
      ]
     },
     "execution_count": 20,
     "metadata": {},
     "output_type": "execute_result"
    }
   ],
   "source": [
    "%%sql sqlite\n",
    "WITH matches_by_player AS (\n",
    "    SELECT\n",
    "        m.away_team_api_id,\n",
    "        m.away_player_1,\n",
    "        COUNT(*) AS player_match_count\n",
    "    FROM\n",
    "        match m\n",
    "    GROUP BY\n",
    "        m.away_team_api_id, m.away_player_1\n",
    "),\n",
    "total_matches AS (\n",
    "    SELECT\n",
    "        away_team_api_id,\n",
    "        COUNT(*) AS total_match_count\n",
    "    FROM\n",
    "        match\n",
    "    GROUP BY\n",
    "        away_team_api_id\n",
    ")\n",
    "SELECT\n",
    "    t.team_long_name,\n",
    "    p.player_name\n",
    "FROM\n",
    "    matches_by_player mp\n",
    "JOIN\n",
    "    total_matches tm\n",
    "    ON mp.away_team_api_id = tm.away_team_api_id\n",
    "    AND mp.player_match_count = tm.total_match_count\n",
    "JOIN\n",
    "    team t\n",
    "    ON t.team_api_id = mp.away_team_api_id\n",
    "JOIN\n",
    "    player p\n",
    "    ON p.player_api_id = mp.away_player_1;\n",
    "\n"
   ]
  },
  {
   "cell_type": "markdown",
   "id": "17",
   "metadata": {},
   "source": [
    "## PART II - New Database Schema (PostgreSQL)"
   ]
  },
  {
   "cell_type": "markdown",
   "id": "18",
   "metadata": {},
   "source": [
    "#### 0. Migrate the SQLite Database to PostgreSQL"
   ]
  },
  {
   "cell_type": "markdown",
   "id": "19",
   "metadata": {},
   "source": [
    "Instead of writing tedious migration code ourselves, we will be using the `pgloader` CLI tool to get started quickly. The migration task is setup using a `command-file`. Lets see inside that file."
   ]
  },
  {
   "cell_type": "code",
   "execution_count": 21,
   "id": "20",
   "metadata": {
    "execution": {
     "iopub.execute_input": "2024-12-29T14:25:03.141166Z",
     "iopub.status.busy": "2024-12-29T14:25:03.140291Z",
     "iopub.status.idle": "2024-12-29T14:25:03.425410Z",
     "shell.execute_reply": "2024-12-29T14:25:03.424735Z",
     "shell.execute_reply.started": "2024-12-29T14:25:03.141134Z"
    }
   },
   "outputs": [
    {
     "name": "stdout",
     "output_type": "stream",
     "text": [
      "load database\n",
      "    from '/home/jovyan/data/database.sqlite'\n",
      "    into postgresql://db:db@postgres/db\n",
      "\n",
      "with include drop, create tables, create indexes, reset sequences,\n",
      "\n",
      "prefetch rows = 100, max parallel create index = 1\n",
      "\n",
      "set work_mem to '16MB', maintenance_work_mem to '512 MB';\n"
     ]
    }
   ],
   "source": [
    "!cat ./command-file.txt"
   ]
  },
  {
   "cell_type": "markdown",
   "id": "21",
   "metadata": {},
   "source": [
    "The `pgloader` tool will take care of everything automatically including the foreign key constraints (which SQLite does not enforce by default). Lets run it."
   ]
  },
  {
   "cell_type": "code",
   "execution_count": 24,
   "id": "22",
   "metadata": {
    "editable": true,
    "execution": {
     "iopub.execute_input": "2024-12-30T00:37:11.871022Z",
     "iopub.status.busy": "2024-12-30T00:37:11.869496Z",
     "iopub.status.idle": "2024-12-30T00:37:12.194993Z",
     "shell.execute_reply": "2024-12-30T00:37:12.194318Z",
     "shell.execute_reply.started": "2024-12-30T00:37:11.870964Z"
    },
    "scrolled": true,
    "slideshow": {
     "slide_type": ""
    },
    "tags": []
   },
   "outputs": [
    {
     "name": "stdout",
     "output_type": "stream",
     "text": [
      "/bin/bash: line 1: pgloader: command not found\n"
     ]
    }
   ],
   "source": [
    "!pgloader ./command-file.txt"
   ]
  },
  {
   "cell_type": "markdown",
   "id": "23",
   "metadata": {},
   "source": [
    "Lets take a closer look into the `match` table."
   ]
  },
  {
   "cell_type": "code",
   "execution_count": 9,
   "id": "24",
   "metadata": {
    "execution": {
     "iopub.execute_input": "2024-12-28T23:23:39.755345Z",
     "iopub.status.busy": "2024-12-28T23:23:39.755223Z",
     "iopub.status.idle": "2024-12-28T23:23:39.792254Z",
     "shell.execute_reply": "2024-12-28T23:23:39.791827Z",
     "shell.execute_reply.started": "2024-12-28T23:23:39.755328Z"
    }
   },
   "outputs": [
    {
     "name": "stdout",
     "output_type": "stream",
     "text": [
      "The sql extension is already loaded. To reload it, use:\n",
      "  %reload_ext sql\n"
     ]
    }
   ],
   "source": [
    "%load_ext sql\n",
    "%config SqlMagic.displaycon = 0\n",
    "%config SqlMagic.displaylimit = 100\n",
    "%config SqlMagic.feedback = 0\n",
    "%sql postgresql+psycopg://db:db@postgres/db --alias psql"
   ]
  },
  {
   "cell_type": "code",
   "execution_count": 10,
   "id": "25",
   "metadata": {
    "execution": {
     "iopub.execute_input": "2024-12-28T23:23:39.792698Z",
     "iopub.status.busy": "2024-12-28T23:23:39.792602Z",
     "iopub.status.idle": "2024-12-28T23:23:39.821259Z",
     "shell.execute_reply": "2024-12-28T23:23:39.820853Z",
     "shell.execute_reply.started": "2024-12-28T23:23:39.792690Z"
    },
    "vscode": {
     "languageId": "sql"
    }
   },
   "outputs": [
    {
     "data": {
      "text/html": [
       "<table>\n",
       "    <thead>\n",
       "        <tr>\n",
       "            <th>name</th>\n",
       "            <th>type</th>\n",
       "            <th>nullable</th>\n",
       "            <th>default</th>\n",
       "            <th>autoincrement</th>\n",
       "            <th>comment</th>\n",
       "        </tr>\n",
       "    </thead>\n",
       "    <tbody>\n",
       "        <tr>\n",
       "            <td>id</td>\n",
       "            <td>BIGINT</td>\n",
       "            <td>False</td>\n",
       "            <td>nextval(&#x27;match_id_seq&#x27;::regclass)</td>\n",
       "            <td>True</td>\n",
       "            <td>None</td>\n",
       "        </tr>\n",
       "        <tr>\n",
       "            <td>country_id</td>\n",
       "            <td>BIGINT</td>\n",
       "            <td>True</td>\n",
       "            <td>None</td>\n",
       "            <td>False</td>\n",
       "            <td>None</td>\n",
       "        </tr>\n",
       "        <tr>\n",
       "            <td>league_id</td>\n",
       "            <td>BIGINT</td>\n",
       "            <td>True</td>\n",
       "            <td>None</td>\n",
       "            <td>False</td>\n",
       "            <td>None</td>\n",
       "        </tr>\n",
       "        <tr>\n",
       "            <td>season</td>\n",
       "            <td>TEXT</td>\n",
       "            <td>True</td>\n",
       "            <td>None</td>\n",
       "            <td>False</td>\n",
       "            <td>None</td>\n",
       "        </tr>\n",
       "        <tr>\n",
       "            <td>stage</td>\n",
       "            <td>BIGINT</td>\n",
       "            <td>True</td>\n",
       "            <td>None</td>\n",
       "            <td>False</td>\n",
       "            <td>None</td>\n",
       "        </tr>\n",
       "        <tr>\n",
       "            <td>date</td>\n",
       "            <td>TEXT</td>\n",
       "            <td>True</td>\n",
       "            <td>None</td>\n",
       "            <td>False</td>\n",
       "            <td>None</td>\n",
       "        </tr>\n",
       "        <tr>\n",
       "            <td>match_api_id</td>\n",
       "            <td>BIGINT</td>\n",
       "            <td>True</td>\n",
       "            <td>None</td>\n",
       "            <td>False</td>\n",
       "            <td>None</td>\n",
       "        </tr>\n",
       "        <tr>\n",
       "            <td>home_team_api_id</td>\n",
       "            <td>BIGINT</td>\n",
       "            <td>True</td>\n",
       "            <td>None</td>\n",
       "            <td>False</td>\n",
       "            <td>None</td>\n",
       "        </tr>\n",
       "        <tr>\n",
       "            <td>away_team_api_id</td>\n",
       "            <td>BIGINT</td>\n",
       "            <td>True</td>\n",
       "            <td>None</td>\n",
       "            <td>False</td>\n",
       "            <td>None</td>\n",
       "        </tr>\n",
       "        <tr>\n",
       "            <td>home_team_goal</td>\n",
       "            <td>BIGINT</td>\n",
       "            <td>True</td>\n",
       "            <td>None</td>\n",
       "            <td>False</td>\n",
       "            <td>None</td>\n",
       "        </tr>\n",
       "        <tr>\n",
       "            <td>away_team_goal</td>\n",
       "            <td>BIGINT</td>\n",
       "            <td>True</td>\n",
       "            <td>None</td>\n",
       "            <td>False</td>\n",
       "            <td>None</td>\n",
       "        </tr>\n",
       "        <tr>\n",
       "            <td>home_player_x1</td>\n",
       "            <td>BIGINT</td>\n",
       "            <td>True</td>\n",
       "            <td>None</td>\n",
       "            <td>False</td>\n",
       "            <td>None</td>\n",
       "        </tr>\n",
       "        <tr>\n",
       "            <td>home_player_x2</td>\n",
       "            <td>BIGINT</td>\n",
       "            <td>True</td>\n",
       "            <td>None</td>\n",
       "            <td>False</td>\n",
       "            <td>None</td>\n",
       "        </tr>\n",
       "        <tr>\n",
       "            <td>home_player_x3</td>\n",
       "            <td>BIGINT</td>\n",
       "            <td>True</td>\n",
       "            <td>None</td>\n",
       "            <td>False</td>\n",
       "            <td>None</td>\n",
       "        </tr>\n",
       "        <tr>\n",
       "            <td>home_player_x4</td>\n",
       "            <td>BIGINT</td>\n",
       "            <td>True</td>\n",
       "            <td>None</td>\n",
       "            <td>False</td>\n",
       "            <td>None</td>\n",
       "        </tr>\n",
       "        <tr>\n",
       "            <td>home_player_x5</td>\n",
       "            <td>BIGINT</td>\n",
       "            <td>True</td>\n",
       "            <td>None</td>\n",
       "            <td>False</td>\n",
       "            <td>None</td>\n",
       "        </tr>\n",
       "        <tr>\n",
       "            <td>home_player_x6</td>\n",
       "            <td>BIGINT</td>\n",
       "            <td>True</td>\n",
       "            <td>None</td>\n",
       "            <td>False</td>\n",
       "            <td>None</td>\n",
       "        </tr>\n",
       "        <tr>\n",
       "            <td>home_player_x7</td>\n",
       "            <td>BIGINT</td>\n",
       "            <td>True</td>\n",
       "            <td>None</td>\n",
       "            <td>False</td>\n",
       "            <td>None</td>\n",
       "        </tr>\n",
       "        <tr>\n",
       "            <td>home_player_x8</td>\n",
       "            <td>BIGINT</td>\n",
       "            <td>True</td>\n",
       "            <td>None</td>\n",
       "            <td>False</td>\n",
       "            <td>None</td>\n",
       "        </tr>\n",
       "        <tr>\n",
       "            <td>home_player_x9</td>\n",
       "            <td>BIGINT</td>\n",
       "            <td>True</td>\n",
       "            <td>None</td>\n",
       "            <td>False</td>\n",
       "            <td>None</td>\n",
       "        </tr>\n",
       "        <tr>\n",
       "            <td>home_player_x10</td>\n",
       "            <td>BIGINT</td>\n",
       "            <td>True</td>\n",
       "            <td>None</td>\n",
       "            <td>False</td>\n",
       "            <td>None</td>\n",
       "        </tr>\n",
       "        <tr>\n",
       "            <td>home_player_x11</td>\n",
       "            <td>BIGINT</td>\n",
       "            <td>True</td>\n",
       "            <td>None</td>\n",
       "            <td>False</td>\n",
       "            <td>None</td>\n",
       "        </tr>\n",
       "        <tr>\n",
       "            <td>away_player_x1</td>\n",
       "            <td>BIGINT</td>\n",
       "            <td>True</td>\n",
       "            <td>None</td>\n",
       "            <td>False</td>\n",
       "            <td>None</td>\n",
       "        </tr>\n",
       "        <tr>\n",
       "            <td>away_player_x2</td>\n",
       "            <td>BIGINT</td>\n",
       "            <td>True</td>\n",
       "            <td>None</td>\n",
       "            <td>False</td>\n",
       "            <td>None</td>\n",
       "        </tr>\n",
       "        <tr>\n",
       "            <td>away_player_x3</td>\n",
       "            <td>BIGINT</td>\n",
       "            <td>True</td>\n",
       "            <td>None</td>\n",
       "            <td>False</td>\n",
       "            <td>None</td>\n",
       "        </tr>\n",
       "        <tr>\n",
       "            <td>away_player_x4</td>\n",
       "            <td>BIGINT</td>\n",
       "            <td>True</td>\n",
       "            <td>None</td>\n",
       "            <td>False</td>\n",
       "            <td>None</td>\n",
       "        </tr>\n",
       "        <tr>\n",
       "            <td>away_player_x5</td>\n",
       "            <td>BIGINT</td>\n",
       "            <td>True</td>\n",
       "            <td>None</td>\n",
       "            <td>False</td>\n",
       "            <td>None</td>\n",
       "        </tr>\n",
       "        <tr>\n",
       "            <td>away_player_x6</td>\n",
       "            <td>BIGINT</td>\n",
       "            <td>True</td>\n",
       "            <td>None</td>\n",
       "            <td>False</td>\n",
       "            <td>None</td>\n",
       "        </tr>\n",
       "        <tr>\n",
       "            <td>away_player_x7</td>\n",
       "            <td>BIGINT</td>\n",
       "            <td>True</td>\n",
       "            <td>None</td>\n",
       "            <td>False</td>\n",
       "            <td>None</td>\n",
       "        </tr>\n",
       "        <tr>\n",
       "            <td>away_player_x8</td>\n",
       "            <td>BIGINT</td>\n",
       "            <td>True</td>\n",
       "            <td>None</td>\n",
       "            <td>False</td>\n",
       "            <td>None</td>\n",
       "        </tr>\n",
       "        <tr>\n",
       "            <td>away_player_x9</td>\n",
       "            <td>BIGINT</td>\n",
       "            <td>True</td>\n",
       "            <td>None</td>\n",
       "            <td>False</td>\n",
       "            <td>None</td>\n",
       "        </tr>\n",
       "        <tr>\n",
       "            <td>away_player_x10</td>\n",
       "            <td>BIGINT</td>\n",
       "            <td>True</td>\n",
       "            <td>None</td>\n",
       "            <td>False</td>\n",
       "            <td>None</td>\n",
       "        </tr>\n",
       "        <tr>\n",
       "            <td>away_player_x11</td>\n",
       "            <td>BIGINT</td>\n",
       "            <td>True</td>\n",
       "            <td>None</td>\n",
       "            <td>False</td>\n",
       "            <td>None</td>\n",
       "        </tr>\n",
       "        <tr>\n",
       "            <td>home_player_y1</td>\n",
       "            <td>BIGINT</td>\n",
       "            <td>True</td>\n",
       "            <td>None</td>\n",
       "            <td>False</td>\n",
       "            <td>None</td>\n",
       "        </tr>\n",
       "        <tr>\n",
       "            <td>home_player_y2</td>\n",
       "            <td>BIGINT</td>\n",
       "            <td>True</td>\n",
       "            <td>None</td>\n",
       "            <td>False</td>\n",
       "            <td>None</td>\n",
       "        </tr>\n",
       "        <tr>\n",
       "            <td>home_player_y3</td>\n",
       "            <td>BIGINT</td>\n",
       "            <td>True</td>\n",
       "            <td>None</td>\n",
       "            <td>False</td>\n",
       "            <td>None</td>\n",
       "        </tr>\n",
       "        <tr>\n",
       "            <td>home_player_y4</td>\n",
       "            <td>BIGINT</td>\n",
       "            <td>True</td>\n",
       "            <td>None</td>\n",
       "            <td>False</td>\n",
       "            <td>None</td>\n",
       "        </tr>\n",
       "        <tr>\n",
       "            <td>home_player_y5</td>\n",
       "            <td>BIGINT</td>\n",
       "            <td>True</td>\n",
       "            <td>None</td>\n",
       "            <td>False</td>\n",
       "            <td>None</td>\n",
       "        </tr>\n",
       "        <tr>\n",
       "            <td>home_player_y6</td>\n",
       "            <td>BIGINT</td>\n",
       "            <td>True</td>\n",
       "            <td>None</td>\n",
       "            <td>False</td>\n",
       "            <td>None</td>\n",
       "        </tr>\n",
       "        <tr>\n",
       "            <td>home_player_y7</td>\n",
       "            <td>BIGINT</td>\n",
       "            <td>True</td>\n",
       "            <td>None</td>\n",
       "            <td>False</td>\n",
       "            <td>None</td>\n",
       "        </tr>\n",
       "        <tr>\n",
       "            <td>home_player_y8</td>\n",
       "            <td>BIGINT</td>\n",
       "            <td>True</td>\n",
       "            <td>None</td>\n",
       "            <td>False</td>\n",
       "            <td>None</td>\n",
       "        </tr>\n",
       "        <tr>\n",
       "            <td>home_player_y9</td>\n",
       "            <td>BIGINT</td>\n",
       "            <td>True</td>\n",
       "            <td>None</td>\n",
       "            <td>False</td>\n",
       "            <td>None</td>\n",
       "        </tr>\n",
       "        <tr>\n",
       "            <td>home_player_y10</td>\n",
       "            <td>BIGINT</td>\n",
       "            <td>True</td>\n",
       "            <td>None</td>\n",
       "            <td>False</td>\n",
       "            <td>None</td>\n",
       "        </tr>\n",
       "        <tr>\n",
       "            <td>home_player_y11</td>\n",
       "            <td>BIGINT</td>\n",
       "            <td>True</td>\n",
       "            <td>None</td>\n",
       "            <td>False</td>\n",
       "            <td>None</td>\n",
       "        </tr>\n",
       "        <tr>\n",
       "            <td>away_player_y1</td>\n",
       "            <td>BIGINT</td>\n",
       "            <td>True</td>\n",
       "            <td>None</td>\n",
       "            <td>False</td>\n",
       "            <td>None</td>\n",
       "        </tr>\n",
       "        <tr>\n",
       "            <td>away_player_y2</td>\n",
       "            <td>BIGINT</td>\n",
       "            <td>True</td>\n",
       "            <td>None</td>\n",
       "            <td>False</td>\n",
       "            <td>None</td>\n",
       "        </tr>\n",
       "        <tr>\n",
       "            <td>away_player_y3</td>\n",
       "            <td>BIGINT</td>\n",
       "            <td>True</td>\n",
       "            <td>None</td>\n",
       "            <td>False</td>\n",
       "            <td>None</td>\n",
       "        </tr>\n",
       "        <tr>\n",
       "            <td>away_player_y4</td>\n",
       "            <td>BIGINT</td>\n",
       "            <td>True</td>\n",
       "            <td>None</td>\n",
       "            <td>False</td>\n",
       "            <td>None</td>\n",
       "        </tr>\n",
       "        <tr>\n",
       "            <td>away_player_y5</td>\n",
       "            <td>BIGINT</td>\n",
       "            <td>True</td>\n",
       "            <td>None</td>\n",
       "            <td>False</td>\n",
       "            <td>None</td>\n",
       "        </tr>\n",
       "        <tr>\n",
       "            <td>away_player_y6</td>\n",
       "            <td>BIGINT</td>\n",
       "            <td>True</td>\n",
       "            <td>None</td>\n",
       "            <td>False</td>\n",
       "            <td>None</td>\n",
       "        </tr>\n",
       "        <tr>\n",
       "            <td>away_player_y7</td>\n",
       "            <td>BIGINT</td>\n",
       "            <td>True</td>\n",
       "            <td>None</td>\n",
       "            <td>False</td>\n",
       "            <td>None</td>\n",
       "        </tr>\n",
       "        <tr>\n",
       "            <td>away_player_y8</td>\n",
       "            <td>BIGINT</td>\n",
       "            <td>True</td>\n",
       "            <td>None</td>\n",
       "            <td>False</td>\n",
       "            <td>None</td>\n",
       "        </tr>\n",
       "        <tr>\n",
       "            <td>away_player_y9</td>\n",
       "            <td>BIGINT</td>\n",
       "            <td>True</td>\n",
       "            <td>None</td>\n",
       "            <td>False</td>\n",
       "            <td>None</td>\n",
       "        </tr>\n",
       "        <tr>\n",
       "            <td>away_player_y10</td>\n",
       "            <td>BIGINT</td>\n",
       "            <td>True</td>\n",
       "            <td>None</td>\n",
       "            <td>False</td>\n",
       "            <td>None</td>\n",
       "        </tr>\n",
       "        <tr>\n",
       "            <td>away_player_y11</td>\n",
       "            <td>BIGINT</td>\n",
       "            <td>True</td>\n",
       "            <td>None</td>\n",
       "            <td>False</td>\n",
       "            <td>None</td>\n",
       "        </tr>\n",
       "        <tr>\n",
       "            <td>home_player_1</td>\n",
       "            <td>BIGINT</td>\n",
       "            <td>True</td>\n",
       "            <td>None</td>\n",
       "            <td>False</td>\n",
       "            <td>None</td>\n",
       "        </tr>\n",
       "        <tr>\n",
       "            <td>home_player_2</td>\n",
       "            <td>BIGINT</td>\n",
       "            <td>True</td>\n",
       "            <td>None</td>\n",
       "            <td>False</td>\n",
       "            <td>None</td>\n",
       "        </tr>\n",
       "        <tr>\n",
       "            <td>home_player_3</td>\n",
       "            <td>BIGINT</td>\n",
       "            <td>True</td>\n",
       "            <td>None</td>\n",
       "            <td>False</td>\n",
       "            <td>None</td>\n",
       "        </tr>\n",
       "        <tr>\n",
       "            <td>home_player_4</td>\n",
       "            <td>BIGINT</td>\n",
       "            <td>True</td>\n",
       "            <td>None</td>\n",
       "            <td>False</td>\n",
       "            <td>None</td>\n",
       "        </tr>\n",
       "        <tr>\n",
       "            <td>home_player_5</td>\n",
       "            <td>BIGINT</td>\n",
       "            <td>True</td>\n",
       "            <td>None</td>\n",
       "            <td>False</td>\n",
       "            <td>None</td>\n",
       "        </tr>\n",
       "        <tr>\n",
       "            <td>home_player_6</td>\n",
       "            <td>BIGINT</td>\n",
       "            <td>True</td>\n",
       "            <td>None</td>\n",
       "            <td>False</td>\n",
       "            <td>None</td>\n",
       "        </tr>\n",
       "        <tr>\n",
       "            <td>home_player_7</td>\n",
       "            <td>BIGINT</td>\n",
       "            <td>True</td>\n",
       "            <td>None</td>\n",
       "            <td>False</td>\n",
       "            <td>None</td>\n",
       "        </tr>\n",
       "        <tr>\n",
       "            <td>home_player_8</td>\n",
       "            <td>BIGINT</td>\n",
       "            <td>True</td>\n",
       "            <td>None</td>\n",
       "            <td>False</td>\n",
       "            <td>None</td>\n",
       "        </tr>\n",
       "        <tr>\n",
       "            <td>home_player_9</td>\n",
       "            <td>BIGINT</td>\n",
       "            <td>True</td>\n",
       "            <td>None</td>\n",
       "            <td>False</td>\n",
       "            <td>None</td>\n",
       "        </tr>\n",
       "        <tr>\n",
       "            <td>home_player_10</td>\n",
       "            <td>BIGINT</td>\n",
       "            <td>True</td>\n",
       "            <td>None</td>\n",
       "            <td>False</td>\n",
       "            <td>None</td>\n",
       "        </tr>\n",
       "        <tr>\n",
       "            <td>home_player_11</td>\n",
       "            <td>BIGINT</td>\n",
       "            <td>True</td>\n",
       "            <td>None</td>\n",
       "            <td>False</td>\n",
       "            <td>None</td>\n",
       "        </tr>\n",
       "        <tr>\n",
       "            <td>away_player_1</td>\n",
       "            <td>BIGINT</td>\n",
       "            <td>True</td>\n",
       "            <td>None</td>\n",
       "            <td>False</td>\n",
       "            <td>None</td>\n",
       "        </tr>\n",
       "        <tr>\n",
       "            <td>away_player_2</td>\n",
       "            <td>BIGINT</td>\n",
       "            <td>True</td>\n",
       "            <td>None</td>\n",
       "            <td>False</td>\n",
       "            <td>None</td>\n",
       "        </tr>\n",
       "        <tr>\n",
       "            <td>away_player_3</td>\n",
       "            <td>BIGINT</td>\n",
       "            <td>True</td>\n",
       "            <td>None</td>\n",
       "            <td>False</td>\n",
       "            <td>None</td>\n",
       "        </tr>\n",
       "        <tr>\n",
       "            <td>away_player_4</td>\n",
       "            <td>BIGINT</td>\n",
       "            <td>True</td>\n",
       "            <td>None</td>\n",
       "            <td>False</td>\n",
       "            <td>None</td>\n",
       "        </tr>\n",
       "        <tr>\n",
       "            <td>away_player_5</td>\n",
       "            <td>BIGINT</td>\n",
       "            <td>True</td>\n",
       "            <td>None</td>\n",
       "            <td>False</td>\n",
       "            <td>None</td>\n",
       "        </tr>\n",
       "        <tr>\n",
       "            <td>away_player_6</td>\n",
       "            <td>BIGINT</td>\n",
       "            <td>True</td>\n",
       "            <td>None</td>\n",
       "            <td>False</td>\n",
       "            <td>None</td>\n",
       "        </tr>\n",
       "        <tr>\n",
       "            <td>away_player_7</td>\n",
       "            <td>BIGINT</td>\n",
       "            <td>True</td>\n",
       "            <td>None</td>\n",
       "            <td>False</td>\n",
       "            <td>None</td>\n",
       "        </tr>\n",
       "        <tr>\n",
       "            <td>away_player_8</td>\n",
       "            <td>BIGINT</td>\n",
       "            <td>True</td>\n",
       "            <td>None</td>\n",
       "            <td>False</td>\n",
       "            <td>None</td>\n",
       "        </tr>\n",
       "        <tr>\n",
       "            <td>away_player_9</td>\n",
       "            <td>BIGINT</td>\n",
       "            <td>True</td>\n",
       "            <td>None</td>\n",
       "            <td>False</td>\n",
       "            <td>None</td>\n",
       "        </tr>\n",
       "        <tr>\n",
       "            <td>away_player_10</td>\n",
       "            <td>BIGINT</td>\n",
       "            <td>True</td>\n",
       "            <td>None</td>\n",
       "            <td>False</td>\n",
       "            <td>None</td>\n",
       "        </tr>\n",
       "        <tr>\n",
       "            <td>away_player_11</td>\n",
       "            <td>BIGINT</td>\n",
       "            <td>True</td>\n",
       "            <td>None</td>\n",
       "            <td>False</td>\n",
       "            <td>None</td>\n",
       "        </tr>\n",
       "        <tr>\n",
       "            <td>goal</td>\n",
       "            <td>TEXT</td>\n",
       "            <td>True</td>\n",
       "            <td>None</td>\n",
       "            <td>False</td>\n",
       "            <td>None</td>\n",
       "        </tr>\n",
       "        <tr>\n",
       "            <td>shoton</td>\n",
       "            <td>TEXT</td>\n",
       "            <td>True</td>\n",
       "            <td>None</td>\n",
       "            <td>False</td>\n",
       "            <td>None</td>\n",
       "        </tr>\n",
       "        <tr>\n",
       "            <td>shotoff</td>\n",
       "            <td>TEXT</td>\n",
       "            <td>True</td>\n",
       "            <td>None</td>\n",
       "            <td>False</td>\n",
       "            <td>None</td>\n",
       "        </tr>\n",
       "        <tr>\n",
       "            <td>foulcommit</td>\n",
       "            <td>TEXT</td>\n",
       "            <td>True</td>\n",
       "            <td>None</td>\n",
       "            <td>False</td>\n",
       "            <td>None</td>\n",
       "        </tr>\n",
       "        <tr>\n",
       "            <td>card</td>\n",
       "            <td>TEXT</td>\n",
       "            <td>True</td>\n",
       "            <td>None</td>\n",
       "            <td>False</td>\n",
       "            <td>None</td>\n",
       "        </tr>\n",
       "        <tr>\n",
       "            <td>cross</td>\n",
       "            <td>TEXT</td>\n",
       "            <td>True</td>\n",
       "            <td>None</td>\n",
       "            <td>False</td>\n",
       "            <td>None</td>\n",
       "        </tr>\n",
       "        <tr>\n",
       "            <td>corner</td>\n",
       "            <td>TEXT</td>\n",
       "            <td>True</td>\n",
       "            <td>None</td>\n",
       "            <td>False</td>\n",
       "            <td>None</td>\n",
       "        </tr>\n",
       "        <tr>\n",
       "            <td>possession</td>\n",
       "            <td>TEXT</td>\n",
       "            <td>True</td>\n",
       "            <td>None</td>\n",
       "            <td>False</td>\n",
       "            <td>None</td>\n",
       "        </tr>\n",
       "        <tr>\n",
       "            <td>b365h</td>\n",
       "            <td>NUMERIC</td>\n",
       "            <td>True</td>\n",
       "            <td>None</td>\n",
       "            <td>False</td>\n",
       "            <td>None</td>\n",
       "        </tr>\n",
       "        <tr>\n",
       "            <td>b365d</td>\n",
       "            <td>NUMERIC</td>\n",
       "            <td>True</td>\n",
       "            <td>None</td>\n",
       "            <td>False</td>\n",
       "            <td>None</td>\n",
       "        </tr>\n",
       "        <tr>\n",
       "            <td>b365a</td>\n",
       "            <td>NUMERIC</td>\n",
       "            <td>True</td>\n",
       "            <td>None</td>\n",
       "            <td>False</td>\n",
       "            <td>None</td>\n",
       "        </tr>\n",
       "        <tr>\n",
       "            <td>bwh</td>\n",
       "            <td>NUMERIC</td>\n",
       "            <td>True</td>\n",
       "            <td>None</td>\n",
       "            <td>False</td>\n",
       "            <td>None</td>\n",
       "        </tr>\n",
       "        <tr>\n",
       "            <td>bwd</td>\n",
       "            <td>NUMERIC</td>\n",
       "            <td>True</td>\n",
       "            <td>None</td>\n",
       "            <td>False</td>\n",
       "            <td>None</td>\n",
       "        </tr>\n",
       "        <tr>\n",
       "            <td>bwa</td>\n",
       "            <td>NUMERIC</td>\n",
       "            <td>True</td>\n",
       "            <td>None</td>\n",
       "            <td>False</td>\n",
       "            <td>None</td>\n",
       "        </tr>\n",
       "        <tr>\n",
       "            <td>iwh</td>\n",
       "            <td>NUMERIC</td>\n",
       "            <td>True</td>\n",
       "            <td>None</td>\n",
       "            <td>False</td>\n",
       "            <td>None</td>\n",
       "        </tr>\n",
       "        <tr>\n",
       "            <td>iwd</td>\n",
       "            <td>NUMERIC</td>\n",
       "            <td>True</td>\n",
       "            <td>None</td>\n",
       "            <td>False</td>\n",
       "            <td>None</td>\n",
       "        </tr>\n",
       "        <tr>\n",
       "            <td>iwa</td>\n",
       "            <td>NUMERIC</td>\n",
       "            <td>True</td>\n",
       "            <td>None</td>\n",
       "            <td>False</td>\n",
       "            <td>None</td>\n",
       "        </tr>\n",
       "        <tr>\n",
       "            <td>lbh</td>\n",
       "            <td>NUMERIC</td>\n",
       "            <td>True</td>\n",
       "            <td>None</td>\n",
       "            <td>False</td>\n",
       "            <td>None</td>\n",
       "        </tr>\n",
       "        <tr>\n",
       "            <td>lbd</td>\n",
       "            <td>NUMERIC</td>\n",
       "            <td>True</td>\n",
       "            <td>None</td>\n",
       "            <td>False</td>\n",
       "            <td>None</td>\n",
       "        </tr>\n",
       "        <tr>\n",
       "            <td>lba</td>\n",
       "            <td>NUMERIC</td>\n",
       "            <td>True</td>\n",
       "            <td>None</td>\n",
       "            <td>False</td>\n",
       "            <td>None</td>\n",
       "        </tr>\n",
       "        <tr>\n",
       "            <td>psh</td>\n",
       "            <td>NUMERIC</td>\n",
       "            <td>True</td>\n",
       "            <td>None</td>\n",
       "            <td>False</td>\n",
       "            <td>None</td>\n",
       "        </tr>\n",
       "        <tr>\n",
       "            <td>psd</td>\n",
       "            <td>NUMERIC</td>\n",
       "            <td>True</td>\n",
       "            <td>None</td>\n",
       "            <td>False</td>\n",
       "            <td>None</td>\n",
       "        </tr>\n",
       "        <tr>\n",
       "            <td>psa</td>\n",
       "            <td>NUMERIC</td>\n",
       "            <td>True</td>\n",
       "            <td>None</td>\n",
       "            <td>False</td>\n",
       "            <td>None</td>\n",
       "        </tr>\n",
       "        <tr>\n",
       "            <td>whh</td>\n",
       "            <td>NUMERIC</td>\n",
       "            <td>True</td>\n",
       "            <td>None</td>\n",
       "            <td>False</td>\n",
       "            <td>None</td>\n",
       "        </tr>\n",
       "        <tr>\n",
       "            <td>whd</td>\n",
       "            <td>NUMERIC</td>\n",
       "            <td>True</td>\n",
       "            <td>None</td>\n",
       "            <td>False</td>\n",
       "            <td>None</td>\n",
       "        </tr>\n",
       "        <tr>\n",
       "            <td>wha</td>\n",
       "            <td>NUMERIC</td>\n",
       "            <td>True</td>\n",
       "            <td>None</td>\n",
       "            <td>False</td>\n",
       "            <td>None</td>\n",
       "        </tr>\n",
       "        <tr>\n",
       "            <td>sjh</td>\n",
       "            <td>NUMERIC</td>\n",
       "            <td>True</td>\n",
       "            <td>None</td>\n",
       "            <td>False</td>\n",
       "            <td>None</td>\n",
       "        </tr>\n",
       "        <tr>\n",
       "            <td>sjd</td>\n",
       "            <td>NUMERIC</td>\n",
       "            <td>True</td>\n",
       "            <td>None</td>\n",
       "            <td>False</td>\n",
       "            <td>None</td>\n",
       "        </tr>\n",
       "        <tr>\n",
       "            <td>sja</td>\n",
       "            <td>NUMERIC</td>\n",
       "            <td>True</td>\n",
       "            <td>None</td>\n",
       "            <td>False</td>\n",
       "            <td>None</td>\n",
       "        </tr>\n",
       "        <tr>\n",
       "            <td>vch</td>\n",
       "            <td>NUMERIC</td>\n",
       "            <td>True</td>\n",
       "            <td>None</td>\n",
       "            <td>False</td>\n",
       "            <td>None</td>\n",
       "        </tr>\n",
       "        <tr>\n",
       "            <td>vcd</td>\n",
       "            <td>NUMERIC</td>\n",
       "            <td>True</td>\n",
       "            <td>None</td>\n",
       "            <td>False</td>\n",
       "            <td>None</td>\n",
       "        </tr>\n",
       "        <tr>\n",
       "            <td>vca</td>\n",
       "            <td>NUMERIC</td>\n",
       "            <td>True</td>\n",
       "            <td>None</td>\n",
       "            <td>False</td>\n",
       "            <td>None</td>\n",
       "        </tr>\n",
       "        <tr>\n",
       "            <td>gbh</td>\n",
       "            <td>NUMERIC</td>\n",
       "            <td>True</td>\n",
       "            <td>None</td>\n",
       "            <td>False</td>\n",
       "            <td>None</td>\n",
       "        </tr>\n",
       "        <tr>\n",
       "            <td>gbd</td>\n",
       "            <td>NUMERIC</td>\n",
       "            <td>True</td>\n",
       "            <td>None</td>\n",
       "            <td>False</td>\n",
       "            <td>None</td>\n",
       "        </tr>\n",
       "        <tr>\n",
       "            <td>gba</td>\n",
       "            <td>NUMERIC</td>\n",
       "            <td>True</td>\n",
       "            <td>None</td>\n",
       "            <td>False</td>\n",
       "            <td>None</td>\n",
       "        </tr>\n",
       "        <tr>\n",
       "            <td>bsh</td>\n",
       "            <td>NUMERIC</td>\n",
       "            <td>True</td>\n",
       "            <td>None</td>\n",
       "            <td>False</td>\n",
       "            <td>None</td>\n",
       "        </tr>\n",
       "        <tr>\n",
       "            <td>bsd</td>\n",
       "            <td>NUMERIC</td>\n",
       "            <td>True</td>\n",
       "            <td>None</td>\n",
       "            <td>False</td>\n",
       "            <td>None</td>\n",
       "        </tr>\n",
       "        <tr>\n",
       "            <td>bsa</td>\n",
       "            <td>NUMERIC</td>\n",
       "            <td>True</td>\n",
       "            <td>None</td>\n",
       "            <td>False</td>\n",
       "            <td>None</td>\n",
       "        </tr>\n",
       "    </tbody>\n",
       "</table>"
      ],
      "text/plain": [
       "+------------------+---------+----------+-----------------------------------+---------------+---------+\n",
       "|       name       |   type  | nullable |              default              | autoincrement | comment |\n",
       "+------------------+---------+----------+-----------------------------------+---------------+---------+\n",
       "|        id        |  BIGINT |  False   | nextval('match_id_seq'::regclass) |      True     |   None  |\n",
       "|    country_id    |  BIGINT |   True   |                None               |     False     |   None  |\n",
       "|    league_id     |  BIGINT |   True   |                None               |     False     |   None  |\n",
       "|      season      |   TEXT  |   True   |                None               |     False     |   None  |\n",
       "|      stage       |  BIGINT |   True   |                None               |     False     |   None  |\n",
       "|       date       |   TEXT  |   True   |                None               |     False     |   None  |\n",
       "|   match_api_id   |  BIGINT |   True   |                None               |     False     |   None  |\n",
       "| home_team_api_id |  BIGINT |   True   |                None               |     False     |   None  |\n",
       "| away_team_api_id |  BIGINT |   True   |                None               |     False     |   None  |\n",
       "|  home_team_goal  |  BIGINT |   True   |                None               |     False     |   None  |\n",
       "|  away_team_goal  |  BIGINT |   True   |                None               |     False     |   None  |\n",
       "|  home_player_x1  |  BIGINT |   True   |                None               |     False     |   None  |\n",
       "|  home_player_x2  |  BIGINT |   True   |                None               |     False     |   None  |\n",
       "|  home_player_x3  |  BIGINT |   True   |                None               |     False     |   None  |\n",
       "|  home_player_x4  |  BIGINT |   True   |                None               |     False     |   None  |\n",
       "|  home_player_x5  |  BIGINT |   True   |                None               |     False     |   None  |\n",
       "|  home_player_x6  |  BIGINT |   True   |                None               |     False     |   None  |\n",
       "|  home_player_x7  |  BIGINT |   True   |                None               |     False     |   None  |\n",
       "|  home_player_x8  |  BIGINT |   True   |                None               |     False     |   None  |\n",
       "|  home_player_x9  |  BIGINT |   True   |                None               |     False     |   None  |\n",
       "| home_player_x10  |  BIGINT |   True   |                None               |     False     |   None  |\n",
       "| home_player_x11  |  BIGINT |   True   |                None               |     False     |   None  |\n",
       "|  away_player_x1  |  BIGINT |   True   |                None               |     False     |   None  |\n",
       "|  away_player_x2  |  BIGINT |   True   |                None               |     False     |   None  |\n",
       "|  away_player_x3  |  BIGINT |   True   |                None               |     False     |   None  |\n",
       "|  away_player_x4  |  BIGINT |   True   |                None               |     False     |   None  |\n",
       "|  away_player_x5  |  BIGINT |   True   |                None               |     False     |   None  |\n",
       "|  away_player_x6  |  BIGINT |   True   |                None               |     False     |   None  |\n",
       "|  away_player_x7  |  BIGINT |   True   |                None               |     False     |   None  |\n",
       "|  away_player_x8  |  BIGINT |   True   |                None               |     False     |   None  |\n",
       "|  away_player_x9  |  BIGINT |   True   |                None               |     False     |   None  |\n",
       "| away_player_x10  |  BIGINT |   True   |                None               |     False     |   None  |\n",
       "| away_player_x11  |  BIGINT |   True   |                None               |     False     |   None  |\n",
       "|  home_player_y1  |  BIGINT |   True   |                None               |     False     |   None  |\n",
       "|  home_player_y2  |  BIGINT |   True   |                None               |     False     |   None  |\n",
       "|  home_player_y3  |  BIGINT |   True   |                None               |     False     |   None  |\n",
       "|  home_player_y4  |  BIGINT |   True   |                None               |     False     |   None  |\n",
       "|  home_player_y5  |  BIGINT |   True   |                None               |     False     |   None  |\n",
       "|  home_player_y6  |  BIGINT |   True   |                None               |     False     |   None  |\n",
       "|  home_player_y7  |  BIGINT |   True   |                None               |     False     |   None  |\n",
       "|  home_player_y8  |  BIGINT |   True   |                None               |     False     |   None  |\n",
       "|  home_player_y9  |  BIGINT |   True   |                None               |     False     |   None  |\n",
       "| home_player_y10  |  BIGINT |   True   |                None               |     False     |   None  |\n",
       "| home_player_y11  |  BIGINT |   True   |                None               |     False     |   None  |\n",
       "|  away_player_y1  |  BIGINT |   True   |                None               |     False     |   None  |\n",
       "|  away_player_y2  |  BIGINT |   True   |                None               |     False     |   None  |\n",
       "|  away_player_y3  |  BIGINT |   True   |                None               |     False     |   None  |\n",
       "|  away_player_y4  |  BIGINT |   True   |                None               |     False     |   None  |\n",
       "|  away_player_y5  |  BIGINT |   True   |                None               |     False     |   None  |\n",
       "|  away_player_y6  |  BIGINT |   True   |                None               |     False     |   None  |\n",
       "|  away_player_y7  |  BIGINT |   True   |                None               |     False     |   None  |\n",
       "|  away_player_y8  |  BIGINT |   True   |                None               |     False     |   None  |\n",
       "|  away_player_y9  |  BIGINT |   True   |                None               |     False     |   None  |\n",
       "| away_player_y10  |  BIGINT |   True   |                None               |     False     |   None  |\n",
       "| away_player_y11  |  BIGINT |   True   |                None               |     False     |   None  |\n",
       "|  home_player_1   |  BIGINT |   True   |                None               |     False     |   None  |\n",
       "|  home_player_2   |  BIGINT |   True   |                None               |     False     |   None  |\n",
       "|  home_player_3   |  BIGINT |   True   |                None               |     False     |   None  |\n",
       "|  home_player_4   |  BIGINT |   True   |                None               |     False     |   None  |\n",
       "|  home_player_5   |  BIGINT |   True   |                None               |     False     |   None  |\n",
       "|  home_player_6   |  BIGINT |   True   |                None               |     False     |   None  |\n",
       "|  home_player_7   |  BIGINT |   True   |                None               |     False     |   None  |\n",
       "|  home_player_8   |  BIGINT |   True   |                None               |     False     |   None  |\n",
       "|  home_player_9   |  BIGINT |   True   |                None               |     False     |   None  |\n",
       "|  home_player_10  |  BIGINT |   True   |                None               |     False     |   None  |\n",
       "|  home_player_11  |  BIGINT |   True   |                None               |     False     |   None  |\n",
       "|  away_player_1   |  BIGINT |   True   |                None               |     False     |   None  |\n",
       "|  away_player_2   |  BIGINT |   True   |                None               |     False     |   None  |\n",
       "|  away_player_3   |  BIGINT |   True   |                None               |     False     |   None  |\n",
       "|  away_player_4   |  BIGINT |   True   |                None               |     False     |   None  |\n",
       "|  away_player_5   |  BIGINT |   True   |                None               |     False     |   None  |\n",
       "|  away_player_6   |  BIGINT |   True   |                None               |     False     |   None  |\n",
       "|  away_player_7   |  BIGINT |   True   |                None               |     False     |   None  |\n",
       "|  away_player_8   |  BIGINT |   True   |                None               |     False     |   None  |\n",
       "|  away_player_9   |  BIGINT |   True   |                None               |     False     |   None  |\n",
       "|  away_player_10  |  BIGINT |   True   |                None               |     False     |   None  |\n",
       "|  away_player_11  |  BIGINT |   True   |                None               |     False     |   None  |\n",
       "|       goal       |   TEXT  |   True   |                None               |     False     |   None  |\n",
       "|      shoton      |   TEXT  |   True   |                None               |     False     |   None  |\n",
       "|     shotoff      |   TEXT  |   True   |                None               |     False     |   None  |\n",
       "|    foulcommit    |   TEXT  |   True   |                None               |     False     |   None  |\n",
       "|       card       |   TEXT  |   True   |                None               |     False     |   None  |\n",
       "|      cross       |   TEXT  |   True   |                None               |     False     |   None  |\n",
       "|      corner      |   TEXT  |   True   |                None               |     False     |   None  |\n",
       "|    possession    |   TEXT  |   True   |                None               |     False     |   None  |\n",
       "|      b365h       | NUMERIC |   True   |                None               |     False     |   None  |\n",
       "|      b365d       | NUMERIC |   True   |                None               |     False     |   None  |\n",
       "|      b365a       | NUMERIC |   True   |                None               |     False     |   None  |\n",
       "|       bwh        | NUMERIC |   True   |                None               |     False     |   None  |\n",
       "|       bwd        | NUMERIC |   True   |                None               |     False     |   None  |\n",
       "|       bwa        | NUMERIC |   True   |                None               |     False     |   None  |\n",
       "|       iwh        | NUMERIC |   True   |                None               |     False     |   None  |\n",
       "|       iwd        | NUMERIC |   True   |                None               |     False     |   None  |\n",
       "|       iwa        | NUMERIC |   True   |                None               |     False     |   None  |\n",
       "|       lbh        | NUMERIC |   True   |                None               |     False     |   None  |\n",
       "|       lbd        | NUMERIC |   True   |                None               |     False     |   None  |\n",
       "|       lba        | NUMERIC |   True   |                None               |     False     |   None  |\n",
       "|       psh        | NUMERIC |   True   |                None               |     False     |   None  |\n",
       "|       psd        | NUMERIC |   True   |                None               |     False     |   None  |\n",
       "|       psa        | NUMERIC |   True   |                None               |     False     |   None  |\n",
       "|       whh        | NUMERIC |   True   |                None               |     False     |   None  |\n",
       "|       whd        | NUMERIC |   True   |                None               |     False     |   None  |\n",
       "|       wha        | NUMERIC |   True   |                None               |     False     |   None  |\n",
       "|       sjh        | NUMERIC |   True   |                None               |     False     |   None  |\n",
       "|       sjd        | NUMERIC |   True   |                None               |     False     |   None  |\n",
       "|       sja        | NUMERIC |   True   |                None               |     False     |   None  |\n",
       "|       vch        | NUMERIC |   True   |                None               |     False     |   None  |\n",
       "|       vcd        | NUMERIC |   True   |                None               |     False     |   None  |\n",
       "|       vca        | NUMERIC |   True   |                None               |     False     |   None  |\n",
       "|       gbh        | NUMERIC |   True   |                None               |     False     |   None  |\n",
       "|       gbd        | NUMERIC |   True   |                None               |     False     |   None  |\n",
       "|       gba        | NUMERIC |   True   |                None               |     False     |   None  |\n",
       "|       bsh        | NUMERIC |   True   |                None               |     False     |   None  |\n",
       "|       bsd        | NUMERIC |   True   |                None               |     False     |   None  |\n",
       "|       bsa        | NUMERIC |   True   |                None               |     False     |   None  |\n",
       "+------------------+---------+----------+-----------------------------------+---------------+---------+"
      ]
     },
     "execution_count": 10,
     "metadata": {},
     "output_type": "execute_result"
    }
   ],
   "source": [
    "%sqlcmd columns -t match"
   ]
  },
  {
   "cell_type": "markdown",
   "id": "26",
   "metadata": {},
   "source": [
    "Notice how `pgloader` even assigned the safest most-compatible data types for each column so that no data is lost in the migration."
   ]
  },
  {
   "cell_type": "markdown",
   "id": "27",
   "metadata": {},
   "source": [
    "##### 0.1. Introducing a limitation of the original database schema"
   ]
  },
  {
   "cell_type": "markdown",
   "id": "28",
   "metadata": {},
   "source": [
    "The `match` table still does not look good to us... Can you try to write a SQL query for the following information need?\n",
    "\n",
    "1. List all the teams that 'Cristiano Ronaldo' has played for (regardless of starting position)"
   ]
  },
  {
   "cell_type": "code",
   "execution_count": null,
   "id": "29",
   "metadata": {
    "vscode": {
     "languageId": "sql"
    }
   },
   "outputs": [],
   "source": [
    "%%sql psql\n",
    "-- WILL NOT BE EVALUATED - We will be implementing a solution for this problem in the next section."
   ]
  },
  {
   "cell_type": "markdown",
   "id": "30",
   "metadata": {},
   "source": [
    "#### 1. Functions, Stored Procedures, and Triggers\n",
    "\n",
    "Provide the SQL instructions corresponding to each of the following tasks:"
   ]
  },
  {
   "cell_type": "markdown",
   "id": "31",
   "metadata": {},
   "source": [
    "1. Create a new `match_player` table to store the data for the starting players (11) for each match (currently stored in the columns `match.home_player_DD` and `match.away_player_DD`). We are going to copy the data contained in the table `match` to `match_player` but we want to use a new column for the player position `position`."
   ]
  },
  {
   "cell_type": "code",
   "execution_count": null,
   "id": "32",
   "metadata": {
    "vscode": {
     "languageId": "sql"
    }
   },
   "outputs": [],
   "source": [
    "%%sql psql\n",
    "DROP TABLE IF EXISTS match_player;\n",
    "\n",
    "CREATE TABLE\n",
    "  match_player ();"
   ]
  },
  {
   "cell_type": "markdown",
   "id": "33",
   "metadata": {},
   "source": [
    "2. Populate the new table `match_player` using the data contained in the table `match` using a function or stored procedure."
   ]
  },
  {
   "cell_type": "code",
   "execution_count": null,
   "id": "34",
   "metadata": {
    "vscode": {
     "languageId": "sql"
    }
   },
   "outputs": [],
   "source": [
    "%%sql psql\n",
    "DELETE FROM match_player;\n",
    "\n",
    "CREATE OR REPLACE PROCEDURE populate_match_player()\n",
    "LANGUAGE plpgsql\n",
    "AS $$\n",
    "BEGIN\n",
    "\n",
    "END;\n",
    "$$;\n",
    "\n",
    "CALL populate_match_player();"
   ]
  },
  {
   "cell_type": "markdown",
   "id": "35",
   "metadata": {},
   "source": [
    "#### 2. SQL Queries\n",
    "\n",
    "Consider the new `match_player` table above and write SQL queries for each of the following information needs."
   ]
  },
  {
   "cell_type": "markdown",
   "id": "36",
   "metadata": {},
   "source": [
    "1. List all the teams that 'Cristiano Ronaldo' has played for (regardless of starting position)"
   ]
  },
  {
   "cell_type": "code",
   "execution_count": null,
   "id": "37",
   "metadata": {
    "vscode": {
     "languageId": "sql"
    }
   },
   "outputs": [],
   "source": [
    "%%sql psql\n"
   ]
  },
  {
   "cell_type": "markdown",
   "id": "38",
   "metadata": {},
   "source": [
    "2. Who are the players that have played all the away games for their team? Output the `team_long_name` and `player_name`."
   ]
  },
  {
   "cell_type": "code",
   "execution_count": null,
   "id": "39",
   "metadata": {
    "vscode": {
     "languageId": "sql"
    }
   },
   "outputs": [],
   "source": [
    "%%sql psql\n"
   ]
  },
  {
   "cell_type": "markdown",
   "id": "40",
   "metadata": {},
   "source": [
    "3. What is the match with the highest number of goals? Output `team_long_name` for both home and away teams, and the total number of goals for each team."
   ]
  },
  {
   "cell_type": "code",
   "execution_count": null,
   "id": "41",
   "metadata": {
    "vscode": {
     "languageId": "sql"
    }
   },
   "outputs": [],
   "source": [
    "%%sql psql\n"
   ]
  },
  {
   "cell_type": "markdown",
   "id": "42",
   "metadata": {},
   "source": [
    "#### 3. Query Optimization\n",
    "\n",
    "Consider the new `player_attributes` table that contains the largest amount of rows."
   ]
  },
  {
   "cell_type": "markdown",
   "id": "43",
   "metadata": {},
   "source": [
    "1. Create the most appropriate index(es) for the following query: "
   ]
  },
  {
   "cell_type": "code",
   "execution_count": null,
   "id": "44",
   "metadata": {
    "vscode": {
     "languageId": "sql"
    }
   },
   "outputs": [],
   "source": [
    "%%sql psql\n",
    "CREATE INDEX"
   ]
  },
  {
   "cell_type": "code",
   "execution_count": null,
   "id": "45",
   "metadata": {
    "vscode": {
     "languageId": "sql"
    }
   },
   "outputs": [],
   "source": [
    "%%sql psql\n",
    "SELECT\n",
    "  MAX(overall_rating)\n",
    "FROM\n",
    "  player_attributes\n",
    "WHERE\n",
    "  attacking_work_rate = 'high';"
   ]
  },
  {
   "cell_type": "markdown",
   "id": "46",
   "metadata": {},
   "source": [
    "2. Create the most appropriate index(es) for the following query: "
   ]
  },
  {
   "cell_type": "code",
   "execution_count": null,
   "id": "47",
   "metadata": {
    "vscode": {
     "languageId": "sql"
    }
   },
   "outputs": [],
   "source": [
    "%%sql psql\n",
    "CREATE INDEX"
   ]
  },
  {
   "cell_type": "code",
   "execution_count": null,
   "id": "48",
   "metadata": {
    "vscode": {
     "languageId": "sql"
    }
   },
   "outputs": [],
   "source": [
    "%%sql psql\n",
    "SELECT\n",
    "  player_api_id,\n",
    "  preferred_foot,\n",
    "  MIN(crossing),\n",
    "  MIN(potential)\n",
    "FROM\n",
    "  player_attributes\n",
    "GROUP BY\n",
    "  player_api_id,\n",
    "  preferred_foot\n",
    "HAVING\n",
    "  MIN(crossing) = 80\n",
    "  AND MIN(potential) >= 90"
   ]
  },
  {
   "cell_type": "markdown",
   "id": "49",
   "metadata": {},
   "source": [
    "## PART III - The Web App (Flask + PostgreSQL)"
   ]
  },
  {
   "cell_type": "markdown",
   "id": "50",
   "metadata": {},
   "source": [
    "#### 1. SQL View"
   ]
  },
  {
   "cell_type": "markdown",
   "id": "51",
   "metadata": {},
   "source": [
    "1. Create a SQL View that lists the player names sorted by the most recent `player_attributes.date` first."
   ]
  },
  {
   "cell_type": "code",
   "execution_count": 34,
   "id": "52",
   "metadata": {
    "execution": {
     "iopub.execute_input": "2024-12-28T23:39:36.661675Z",
     "iopub.status.busy": "2024-12-28T23:39:36.661514Z",
     "iopub.status.idle": "2024-12-28T23:39:36.678678Z",
     "shell.execute_reply": "2024-12-28T23:39:36.678272Z",
     "shell.execute_reply.started": "2024-12-28T23:39:36.661663Z"
    },
    "vscode": {
     "languageId": "sql"
    }
   },
   "outputs": [
    {
     "data": {
      "text/html": [
       "<table>\n",
       "    <thead>\n",
       "        <tr>\n",
       "        </tr>\n",
       "    </thead>\n",
       "    <tbody>\n",
       "    </tbody>\n",
       "</table>"
      ],
      "text/plain": [
       "++\n",
       "||\n",
       "++\n",
       "++"
      ]
     },
     "execution_count": 34,
     "metadata": {},
     "output_type": "execute_result"
    }
   ],
   "source": [
    "%%sql psql\n",
    "DROP VIEW IF EXISTS players_index_view;\n",
    "\n",
    "CREATE VIEW players_index_view AS\n",
    "SELECT\n",
    "    p.player_name\n",
    "FROM\n",
    "    player p\n",
    "    JOIN player_attributes a ON p.player_api_id = a.player_api_id\n",
    "ORDER BY\n",
    "    a.date DESC;"
   ]
  },
  {
   "cell_type": "markdown",
   "id": "53",
   "metadata": {},
   "source": [
    "2. Create the most appropriate index(es) for the SQL view you just created. (Note: PostgreSQL does not have support for materialized views)"
   ]
  },
  {
   "cell_type": "code",
   "execution_count": null,
   "id": "54",
   "metadata": {
    "vscode": {
     "languageId": "sql"
    }
   },
   "outputs": [],
   "source": [
    "%%sql psql\n",
    "CREATE INDEX date_idx ON player_attributes (date DESC);\n",
    "CREATE INDEX player_api_id_idx ON player_attributes (player_api_id);\n",
    "CREATE INDEX player_api_id_p_idx ON player (player_api_id);"
   ]
  },
  {
   "cell_type": "markdown",
   "id": "55",
   "metadata": {},
   "source": [
    "3. Please test your view using the following query."
   ]
  },
  {
   "cell_type": "code",
   "execution_count": null,
   "id": "56",
   "metadata": {
    "vscode": {
     "languageId": "sql"
    }
   },
   "outputs": [],
   "source": [
    "%%sql psql\n",
    "SELECT\n",
    "  *\n",
    "FROM\n",
    "  players_index_view\n",
    "LIMIT\n",
    "  20;"
   ]
  },
  {
   "cell_type": "markdown",
   "id": "57",
   "metadata": {},
   "source": [
    "#### 2. Create the players_index page on the Web App\n",
    "\n",
    "Requirements:\n",
    "- Should use the SQL View declared above\n",
    "- Do not list more than 20 players."
   ]
  },
  {
   "cell_type": "markdown",
   "id": "58",
   "metadata": {},
   "source": [
    "1. Copy your players_index function from app.py to the cell below"
   ]
  },
  {
   "cell_type": "markdown",
   "id": "59",
   "metadata": {},
   "source": [
    "```python\n",
    "@app.route(\"/\", methods=(\"GET\",))\n",
    "@app.route(\"/accounts\", methods=(\"GET\",))\n",
    "@limiter.limit(\"1 per second\")\n",
    "def account_index():\n",
    "    \"\"\"Show all the accounts, most recent first.\"\"\"\n",
    "\n",
    "    with pool.connection() as conn:\n",
    "        with conn.cursor() as cur:\n",
    "            accounts = cur.execute(\n",
    "                \"\"\"\n",
    "                SELECT account_number, branch_name, balance\n",
    "                FROM account\n",
    "                ORDER BY account_number DESC;\n",
    "                \"\"\",\n",
    "                {},\n",
    "            ).fetchall()\n",
    "            log.debug(f\"Found {cur.rowcount} rows.\")\n",
    "\n",
    "    return render_template(\"account/index.html\", accounts=accounts)\n",
    "```"
   ]
  },
  {
   "cell_type": "markdown",
   "id": "60",
   "metadata": {},
   "source": [
    "2. Copy your final HTML template for this view onto the cell below"
   ]
  },
  {
   "cell_type": "markdown",
   "id": "61",
   "metadata": {},
   "source": [
    "```html\n",
    "{% extends \"base.html\" %}\n",
    "{% block header %}\n",
    "    <h1>\n",
    "        {% block title %}\n",
    "            Accounts\n",
    "        {% endblock title %}\n",
    "    </h1>\n",
    "{% endblock header %}\n",
    "{% block content %}\n",
    "    {% for account in accounts %}\n",
    "        <article class=\"post\">\n",
    "            <header>\n",
    "                <div>\n",
    "                    <h1>{{ account['account_number'] }}</h1>\n",
    "                    <div class=\"about\">in {{ account['branch_name'] }}</div>\n",
    "                </div>\n",
    "                <a class=\"action\"\n",
    "                   href=\"{{ url_for('account_update_view', account_number=account['account_number']) }}\">Edit</a>\n",
    "            </header>\n",
    "            <p class=\"body\">€ {{ account['balance'] }}</p>\n",
    "        </article>\n",
    "        {% if not loop.last %}<hr />{% endif %}\n",
    "    {% endfor %}\n",
    "{% endblock content %}\n",
    "```"
   ]
  },
  {
   "cell_type": "markdown",
   "id": "62",
   "metadata": {},
   "source": [
    "#### 3. Create the player_update_view and player_update_save routes on the Web App\n",
    "\n",
    "Requirements:\n",
    "\n",
    "- The app.route for player_update_view should take a player_api_id and show a nice editable HTML form.\n",
    "             \n",
    "- The app.route for player_update_save should be called on form submission and insert the new data into player_attributes. \n",
    "\n",
    "- On success, should redirect to the players_index\n",
    "\n",
    "- On failure, should raise an appropriate exception with a error message"
   ]
  },
  {
   "cell_type": "markdown",
   "id": "63",
   "metadata": {},
   "source": [
    "1. Copy your player_update_view function from app.py to the cell below"
   ]
  },
  {
   "cell_type": "markdown",
   "id": "64",
   "metadata": {},
   "source": []
  },
  {
   "cell_type": "markdown",
   "id": "65",
   "metadata": {},
   "source": [
    "2. Copy your final HTML template for this view onto the cell below"
   ]
  },
  {
   "cell_type": "markdown",
   "id": "66",
   "metadata": {},
   "source": []
  },
  {
   "cell_type": "markdown",
   "id": "67",
   "metadata": {},
   "source": [
    "3. Copy your player_update_save function from app.py to the cell below"
   ]
  },
  {
   "cell_type": "markdown",
   "id": "68",
   "metadata": {},
   "source": []
  },
  {
   "cell_type": "code",
   "execution_count": null,
   "id": "69",
   "metadata": {},
   "outputs": [],
   "source": []
  }
 ],
 "metadata": {
  "kernelspec": {
   "display_name": "Python 3 (ipykernel)",
   "language": "python",
   "name": "python3"
  },
  "language_info": {
   "codemirror_mode": {
    "name": "ipython",
    "version": 3
   },
   "file_extension": ".py",
   "mimetype": "text/x-python",
   "name": "python",
   "nbconvert_exporter": "python",
   "pygments_lexer": "ipython3",
   "version": "3.12.7"
  }
 },
 "nbformat": 4,
 "nbformat_minor": 5
}
